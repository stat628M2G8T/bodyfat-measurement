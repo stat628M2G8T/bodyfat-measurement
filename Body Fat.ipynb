{
 "cells": [
  {
   "cell_type": "markdown",
   "metadata": {},
   "source": [
    "# Prediction of Body Fat Percentage "
   ]
  },
  {
   "cell_type": "markdown",
   "metadata": {},
   "source": [
    "*Xiaoxiang Hua, xhua24@wisc.edu*  \n",
    "*YiJie Liu, liu854@wisc.edu*  \n",
    "*Bi Qing Teng, bteng2@wisc.edu*    \n",
    "\n",
    "*October 7, 2019*"
   ]
  },
  {
   "cell_type": "markdown",
   "metadata": {},
   "source": [
    "## Background"
   ]
  },
  {
   "cell_type": "markdown",
   "metadata": {},
   "source": [
    "Various methods have been used to measure one's health and fitness including waist-to-height ratio, body fat percentage, skin-fold measurements using a caliper, body mass index (BMI) and etc.\n",
    "\n",
    "According to the American Council on Exercise, the percentage of body fat of a normal adult male typically ranges from 18% to 24%. The percentage of body fat can be estimated using the Siri's equation\n",
    "\n",
    "$$Percent Body Fat = \\frac{495}{D}-450$$\n",
    "\n",
    "where D is the body density which can be accurately measured using underwater hydrostatic weighing procedures. Although this method gives an accurate measurement of the body fat percentage, it is both cumbersome and difficult to measure. \n",
    "\n",
    "To overcome this issue, there are several body fat calculators available online. One calculator that uses the U.S. Navy fitness formula requires information such as one's gender, age, weight, height, waist, hip and neck circumferences in estimating the percentage of body fat. Another calculator requires information about gender, weight, the circumferences of waist, wrist, hip and forearm as input. In both calculators, the three measurements weight, waist and hip are used in predicting the percentage of body fat which we flagged as possible crucial variables prior to model-fitting."
   ]
  },
  {
   "cell_type": "markdown",
   "metadata": {},
   "source": [
    "## Aim"
   ]
  },
  {
   "cell_type": "markdown",
   "metadata": {},
   "source": [
    "This project aims to study the relationship between body fat percentage and the clinically available measurements and then come up with a simple, robust, accurate and precise \"rule-of-thumb\" to predict percentage of body fat from a subset of predictors. "
   ]
  },
  {
   "cell_type": "markdown",
   "metadata": {},
   "source": [
    "## Data Preparation"
   ]
  },
  {
   "cell_type": "markdown",
   "metadata": {},
   "source": [
    "The data set **bodyfat.csv** contains 252 observations and 17 variables with no missing data. In particular, the variables are **idno**, **body fat percentage** (%), **body density** (gm/cm$^3$), **age** (years), **weight** (lbs), **height** (inches), **adiposity** (bmi), **neck**, **chest**, **abdomen**, **hip**, **thigh**, **knee, ankle, biceps, forearm** and **wrist** circumferences measured in cm. The weight and height variables were measured to the nearest quarter pound and inch respectively while other variables were measured to the nearest tenth of a centimeter."
   ]
  },
  {
   "cell_type": "code",
   "execution_count": 1,
   "metadata": {
    "scrolled": true
   },
   "outputs": [
    {
     "data": {
      "text/html": [
       "<table>\n",
       "<thead><tr><th scope=col>bodyfat</th><th scope=col>density</th><th scope=col>age</th><th scope=col>weight</th><th scope=col>height</th><th scope=col>adiposity</th><th scope=col>neck</th><th scope=col>chest</th><th scope=col>abdomen</th><th scope=col>hip</th><th scope=col>thigh</th><th scope=col>knee</th><th scope=col>ankle</th><th scope=col>biceps</th><th scope=col>forearm</th><th scope=col>wrist</th></tr></thead>\n",
       "<tbody>\n",
       "\t<tr><td>12.6  </td><td>1.0708</td><td>23    </td><td>154.25</td><td>67.75 </td><td>23.7  </td><td>36.2  </td><td> 93.1 </td><td> 85.2 </td><td> 94.5 </td><td>59.0  </td><td>37.3  </td><td>21.9  </td><td>32.0  </td><td>27.4  </td><td>17.1  </td></tr>\n",
       "\t<tr><td> 6.9  </td><td>1.0853</td><td>22    </td><td>173.25</td><td>72.25 </td><td>23.4  </td><td>38.5  </td><td> 93.6 </td><td> 83.0 </td><td> 98.7 </td><td>58.7  </td><td>37.3  </td><td>23.4  </td><td>30.5  </td><td>28.9  </td><td>18.2  </td></tr>\n",
       "\t<tr><td>24.6  </td><td>1.0414</td><td>22    </td><td>154.00</td><td>66.25 </td><td>24.7  </td><td>34.0  </td><td> 95.8 </td><td> 87.9 </td><td> 99.2 </td><td>59.6  </td><td>38.9  </td><td>24.0  </td><td>28.8  </td><td>25.2  </td><td>16.6  </td></tr>\n",
       "\t<tr><td>10.9  </td><td>1.0751</td><td>26    </td><td>184.75</td><td>72.25 </td><td>24.9  </td><td>37.4  </td><td>101.8 </td><td> 86.4 </td><td>101.2 </td><td>60.1  </td><td>37.3  </td><td>22.8  </td><td>32.4  </td><td>29.4  </td><td>18.2  </td></tr>\n",
       "\t<tr><td>27.8  </td><td>1.0340</td><td>24    </td><td>184.25</td><td>71.25 </td><td>25.6  </td><td>34.4  </td><td> 97.3 </td><td>100.0 </td><td>101.9 </td><td>63.2  </td><td>42.2  </td><td>24.0  </td><td>32.2  </td><td>27.7  </td><td>17.7  </td></tr>\n",
       "\t<tr><td>20.6  </td><td>1.0502</td><td>24    </td><td>210.25</td><td>74.75 </td><td>26.5  </td><td>39.0  </td><td>104.5 </td><td> 94.4 </td><td>107.8 </td><td>66.0  </td><td>42.0  </td><td>25.6  </td><td>35.7  </td><td>30.6  </td><td>18.8  </td></tr>\n",
       "</tbody>\n",
       "</table>\n"
      ],
      "text/latex": [
       "\\begin{tabular}{r|llllllllllllllll}\n",
       " bodyfat & density & age & weight & height & adiposity & neck & chest & abdomen & hip & thigh & knee & ankle & biceps & forearm & wrist\\\\\n",
       "\\hline\n",
       "\t 12.6   & 1.0708 & 23     & 154.25 & 67.75  & 23.7   & 36.2   &  93.1  &  85.2  &  94.5  & 59.0   & 37.3   & 21.9   & 32.0   & 27.4   & 17.1  \\\\\n",
       "\t  6.9   & 1.0853 & 22     & 173.25 & 72.25  & 23.4   & 38.5   &  93.6  &  83.0  &  98.7  & 58.7   & 37.3   & 23.4   & 30.5   & 28.9   & 18.2  \\\\\n",
       "\t 24.6   & 1.0414 & 22     & 154.00 & 66.25  & 24.7   & 34.0   &  95.8  &  87.9  &  99.2  & 59.6   & 38.9   & 24.0   & 28.8   & 25.2   & 16.6  \\\\\n",
       "\t 10.9   & 1.0751 & 26     & 184.75 & 72.25  & 24.9   & 37.4   & 101.8  &  86.4  & 101.2  & 60.1   & 37.3   & 22.8   & 32.4   & 29.4   & 18.2  \\\\\n",
       "\t 27.8   & 1.0340 & 24     & 184.25 & 71.25  & 25.6   & 34.4   &  97.3  & 100.0  & 101.9  & 63.2   & 42.2   & 24.0   & 32.2   & 27.7   & 17.7  \\\\\n",
       "\t 20.6   & 1.0502 & 24     & 210.25 & 74.75  & 26.5   & 39.0   & 104.5  &  94.4  & 107.8  & 66.0   & 42.0   & 25.6   & 35.7   & 30.6   & 18.8  \\\\\n",
       "\\end{tabular}\n"
      ],
      "text/markdown": [
       "\n",
       "| bodyfat | density | age | weight | height | adiposity | neck | chest | abdomen | hip | thigh | knee | ankle | biceps | forearm | wrist |\n",
       "|---|---|---|---|---|---|---|---|---|---|---|---|---|---|---|---|\n",
       "| 12.6   | 1.0708 | 23     | 154.25 | 67.75  | 23.7   | 36.2   |  93.1  |  85.2  |  94.5  | 59.0   | 37.3   | 21.9   | 32.0   | 27.4   | 17.1   |\n",
       "|  6.9   | 1.0853 | 22     | 173.25 | 72.25  | 23.4   | 38.5   |  93.6  |  83.0  |  98.7  | 58.7   | 37.3   | 23.4   | 30.5   | 28.9   | 18.2   |\n",
       "| 24.6   | 1.0414 | 22     | 154.00 | 66.25  | 24.7   | 34.0   |  95.8  |  87.9  |  99.2  | 59.6   | 38.9   | 24.0   | 28.8   | 25.2   | 16.6   |\n",
       "| 10.9   | 1.0751 | 26     | 184.75 | 72.25  | 24.9   | 37.4   | 101.8  |  86.4  | 101.2  | 60.1   | 37.3   | 22.8   | 32.4   | 29.4   | 18.2   |\n",
       "| 27.8   | 1.0340 | 24     | 184.25 | 71.25  | 25.6   | 34.4   |  97.3  | 100.0  | 101.9  | 63.2   | 42.2   | 24.0   | 32.2   | 27.7   | 17.7   |\n",
       "| 20.6   | 1.0502 | 24     | 210.25 | 74.75  | 26.5   | 39.0   | 104.5  |  94.4  | 107.8  | 66.0   | 42.0   | 25.6   | 35.7   | 30.6   | 18.8   |\n",
       "\n"
      ],
      "text/plain": [
       "  bodyfat density age weight height adiposity neck chest abdomen hip   thigh\n",
       "1 12.6    1.0708  23  154.25 67.75  23.7      36.2  93.1  85.2    94.5 59.0 \n",
       "2  6.9    1.0853  22  173.25 72.25  23.4      38.5  93.6  83.0    98.7 58.7 \n",
       "3 24.6    1.0414  22  154.00 66.25  24.7      34.0  95.8  87.9    99.2 59.6 \n",
       "4 10.9    1.0751  26  184.75 72.25  24.9      37.4 101.8  86.4   101.2 60.1 \n",
       "5 27.8    1.0340  24  184.25 71.25  25.6      34.4  97.3 100.0   101.9 63.2 \n",
       "6 20.6    1.0502  24  210.25 74.75  26.5      39.0 104.5  94.4   107.8 66.0 \n",
       "  knee ankle biceps forearm wrist\n",
       "1 37.3 21.9  32.0   27.4    17.1 \n",
       "2 37.3 23.4  30.5   28.9    18.2 \n",
       "3 38.9 24.0  28.8   25.2    16.6 \n",
       "4 37.3 22.8  32.4   29.4    18.2 \n",
       "5 42.2 24.0  32.2   27.7    17.7 \n",
       "6 42.0 25.6  35.7   30.6    18.8 "
      ]
     },
     "metadata": {},
     "output_type": "display_data"
    },
    {
     "data": {
      "text/html": [
       "<table>\n",
       "<thead><tr><th></th><th scope=col>bodyfat</th><th scope=col>density</th><th scope=col>age</th><th scope=col>weight</th><th scope=col>height</th><th scope=col>adiposity</th><th scope=col>neck</th><th scope=col>chest</th><th scope=col>abdomen</th><th scope=col>hip</th><th scope=col>thigh</th><th scope=col>knee</th><th scope=col>ankle</th><th scope=col>biceps</th><th scope=col>forearm</th><th scope=col>wrist</th></tr></thead>\n",
       "<tbody>\n",
       "\t<tr><th scope=row>247</th><td>29.1  </td><td>1.0308</td><td>69    </td><td>215.50</td><td>70.50 </td><td>30.5  </td><td>40.8  </td><td>113.7 </td><td>107.6 </td><td>110.0 </td><td>63.3  </td><td>44.0  </td><td>22.6  </td><td>37.5  </td><td>32.6  </td><td>18.8  </td></tr>\n",
       "\t<tr><th scope=row>248</th><td>11.5  </td><td>1.0736</td><td>70    </td><td>134.25</td><td>67.00 </td><td>21.1  </td><td>34.9  </td><td> 89.2 </td><td> 83.6 </td><td> 88.8 </td><td>49.6  </td><td>34.8  </td><td>21.5  </td><td>25.6  </td><td>25.7  </td><td>18.5  </td></tr>\n",
       "\t<tr><th scope=row>249</th><td>32.3  </td><td>1.0236</td><td>72    </td><td>201.00</td><td>69.75 </td><td>29.1  </td><td>40.9  </td><td>108.5 </td><td>105.0 </td><td>104.5 </td><td>59.6  </td><td>40.8  </td><td>23.2  </td><td>35.2  </td><td>28.6  </td><td>20.1  </td></tr>\n",
       "\t<tr><th scope=row>250</th><td>28.3  </td><td>1.0328</td><td>72    </td><td>186.75</td><td>66.00 </td><td>30.2  </td><td>38.9  </td><td>111.1 </td><td>111.5 </td><td>101.7 </td><td>60.3  </td><td>37.3  </td><td>21.5  </td><td>31.3  </td><td>27.2  </td><td>18.0  </td></tr>\n",
       "\t<tr><th scope=row>251</th><td>25.3  </td><td>1.0399</td><td>72    </td><td>190.75</td><td>70.50 </td><td>27.0  </td><td>38.9  </td><td>108.3 </td><td>101.3 </td><td> 97.8 </td><td>56.0  </td><td>41.6  </td><td>22.7  </td><td>30.5  </td><td>29.4  </td><td>19.8  </td></tr>\n",
       "\t<tr><th scope=row>252</th><td>30.7  </td><td>1.0271</td><td>74    </td><td>207.50</td><td>70.00 </td><td>29.8  </td><td>40.8  </td><td>112.4 </td><td>108.5 </td><td>107.1 </td><td>59.3  </td><td>42.2  </td><td>24.6  </td><td>33.7  </td><td>30.0  </td><td>20.9  </td></tr>\n",
       "</tbody>\n",
       "</table>\n"
      ],
      "text/latex": [
       "\\begin{tabular}{r|llllllllllllllll}\n",
       "  & bodyfat & density & age & weight & height & adiposity & neck & chest & abdomen & hip & thigh & knee & ankle & biceps & forearm & wrist\\\\\n",
       "\\hline\n",
       "\t247 & 29.1   & 1.0308 & 69     & 215.50 & 70.50  & 30.5   & 40.8   & 113.7  & 107.6  & 110.0  & 63.3   & 44.0   & 22.6   & 37.5   & 32.6   & 18.8  \\\\\n",
       "\t248 & 11.5   & 1.0736 & 70     & 134.25 & 67.00  & 21.1   & 34.9   &  89.2  &  83.6  &  88.8  & 49.6   & 34.8   & 21.5   & 25.6   & 25.7   & 18.5  \\\\\n",
       "\t249 & 32.3   & 1.0236 & 72     & 201.00 & 69.75  & 29.1   & 40.9   & 108.5  & 105.0  & 104.5  & 59.6   & 40.8   & 23.2   & 35.2   & 28.6   & 20.1  \\\\\n",
       "\t250 & 28.3   & 1.0328 & 72     & 186.75 & 66.00  & 30.2   & 38.9   & 111.1  & 111.5  & 101.7  & 60.3   & 37.3   & 21.5   & 31.3   & 27.2   & 18.0  \\\\\n",
       "\t251 & 25.3   & 1.0399 & 72     & 190.75 & 70.50  & 27.0   & 38.9   & 108.3  & 101.3  &  97.8  & 56.0   & 41.6   & 22.7   & 30.5   & 29.4   & 19.8  \\\\\n",
       "\t252 & 30.7   & 1.0271 & 74     & 207.50 & 70.00  & 29.8   & 40.8   & 112.4  & 108.5  & 107.1  & 59.3   & 42.2   & 24.6   & 33.7   & 30.0   & 20.9  \\\\\n",
       "\\end{tabular}\n"
      ],
      "text/markdown": [
       "\n",
       "| <!--/--> | bodyfat | density | age | weight | height | adiposity | neck | chest | abdomen | hip | thigh | knee | ankle | biceps | forearm | wrist |\n",
       "|---|---|---|---|---|---|---|---|---|---|---|---|---|---|---|---|---|\n",
       "| 247 | 29.1   | 1.0308 | 69     | 215.50 | 70.50  | 30.5   | 40.8   | 113.7  | 107.6  | 110.0  | 63.3   | 44.0   | 22.6   | 37.5   | 32.6   | 18.8   |\n",
       "| 248 | 11.5   | 1.0736 | 70     | 134.25 | 67.00  | 21.1   | 34.9   |  89.2  |  83.6  |  88.8  | 49.6   | 34.8   | 21.5   | 25.6   | 25.7   | 18.5   |\n",
       "| 249 | 32.3   | 1.0236 | 72     | 201.00 | 69.75  | 29.1   | 40.9   | 108.5  | 105.0  | 104.5  | 59.6   | 40.8   | 23.2   | 35.2   | 28.6   | 20.1   |\n",
       "| 250 | 28.3   | 1.0328 | 72     | 186.75 | 66.00  | 30.2   | 38.9   | 111.1  | 111.5  | 101.7  | 60.3   | 37.3   | 21.5   | 31.3   | 27.2   | 18.0   |\n",
       "| 251 | 25.3   | 1.0399 | 72     | 190.75 | 70.50  | 27.0   | 38.9   | 108.3  | 101.3  |  97.8  | 56.0   | 41.6   | 22.7   | 30.5   | 29.4   | 19.8   |\n",
       "| 252 | 30.7   | 1.0271 | 74     | 207.50 | 70.00  | 29.8   | 40.8   | 112.4  | 108.5  | 107.1  | 59.3   | 42.2   | 24.6   | 33.7   | 30.0   | 20.9   |\n",
       "\n"
      ],
      "text/plain": [
       "    bodyfat density age weight height adiposity neck chest abdomen hip   thigh\n",
       "247 29.1    1.0308  69  215.50 70.50  30.5      40.8 113.7 107.6   110.0 63.3 \n",
       "248 11.5    1.0736  70  134.25 67.00  21.1      34.9  89.2  83.6    88.8 49.6 \n",
       "249 32.3    1.0236  72  201.00 69.75  29.1      40.9 108.5 105.0   104.5 59.6 \n",
       "250 28.3    1.0328  72  186.75 66.00  30.2      38.9 111.1 111.5   101.7 60.3 \n",
       "251 25.3    1.0399  72  190.75 70.50  27.0      38.9 108.3 101.3    97.8 56.0 \n",
       "252 30.7    1.0271  74  207.50 70.00  29.8      40.8 112.4 108.5   107.1 59.3 \n",
       "    knee ankle biceps forearm wrist\n",
       "247 44.0 22.6  37.5   32.6    18.8 \n",
       "248 34.8 21.5  25.6   25.7    18.5 \n",
       "249 40.8 23.2  35.2   28.6    20.1 \n",
       "250 37.3 21.5  31.3   27.2    18.0 \n",
       "251 41.6 22.7  30.5   29.4    19.8 \n",
       "252 42.2 24.6  33.7   30.0    20.9 "
      ]
     },
     "metadata": {},
     "output_type": "display_data"
    },
    {
     "data": {
      "text/plain": [
       "    bodyfat         density           age            weight     \n",
       " Min.   : 0.00   Min.   :0.995   Min.   :22.00   Min.   :118.5  \n",
       " 1st Qu.:12.80   1st Qu.:1.041   1st Qu.:35.75   1st Qu.:159.0  \n",
       " Median :19.00   Median :1.055   Median :43.00   Median :176.5  \n",
       " Mean   :18.94   Mean   :1.056   Mean   :44.88   Mean   :178.9  \n",
       " 3rd Qu.:24.60   3rd Qu.:1.070   3rd Qu.:54.00   3rd Qu.:197.0  \n",
       " Max.   :45.10   Max.   :1.109   Max.   :81.00   Max.   :363.1  \n",
       "     height        adiposity          neck           chest       \n",
       " Min.   :29.50   Min.   :18.10   Min.   :31.10   Min.   : 79.30  \n",
       " 1st Qu.:68.25   1st Qu.:23.10   1st Qu.:36.40   1st Qu.: 94.35  \n",
       " Median :70.00   Median :25.05   Median :38.00   Median : 99.65  \n",
       " Mean   :70.15   Mean   :25.44   Mean   :37.99   Mean   :100.82  \n",
       " 3rd Qu.:72.25   3rd Qu.:27.32   3rd Qu.:39.42   3rd Qu.:105.38  \n",
       " Max.   :77.75   Max.   :48.90   Max.   :51.20   Max.   :136.20  \n",
       "    abdomen            hip            thigh            knee      \n",
       " Min.   : 69.40   Min.   : 85.0   Min.   :47.20   Min.   :33.00  \n",
       " 1st Qu.: 84.58   1st Qu.: 95.5   1st Qu.:56.00   1st Qu.:36.98  \n",
       " Median : 90.95   Median : 99.3   Median :59.00   Median :38.50  \n",
       " Mean   : 92.56   Mean   : 99.9   Mean   :59.41   Mean   :38.59  \n",
       " 3rd Qu.: 99.33   3rd Qu.:103.5   3rd Qu.:62.35   3rd Qu.:39.92  \n",
       " Max.   :148.10   Max.   :147.7   Max.   :87.30   Max.   :49.10  \n",
       "     ankle          biceps         forearm          wrist      \n",
       " Min.   :19.1   Min.   :24.80   Min.   :21.00   Min.   :15.80  \n",
       " 1st Qu.:22.0   1st Qu.:30.20   1st Qu.:27.30   1st Qu.:17.60  \n",
       " Median :22.8   Median :32.05   Median :28.70   Median :18.30  \n",
       " Mean   :23.1   Mean   :32.27   Mean   :28.66   Mean   :18.23  \n",
       " 3rd Qu.:24.0   3rd Qu.:34.33   3rd Qu.:30.00   3rd Qu.:18.80  \n",
       " Max.   :33.9   Max.   :45.00   Max.   :34.90   Max.   :21.40  "
      ]
     },
     "metadata": {},
     "output_type": "display_data"
    }
   ],
   "source": [
    "rm(list=ls())\n",
    "\n",
    "# import data\n",
    "bodyfat_original = read.csv(\"data/bodyfat.csv\",sep = \",\", header = TRUE)\n",
    "colnames(bodyfat_original) = tolower(variable.names(bodyfat_original))\n",
    "\n",
    "# remove idno variable\n",
    "bodyfat_original = bodyfat_original[,-1]\n",
    "\n",
    "# print first and last few observations \n",
    "head(bodyfat_original)\n",
    "tail(bodyfat_original)\n",
    "\n",
    "# summary of data\n",
    "summary(bodyfat_original)"
   ]
  },
  {
   "cell_type": "markdown",
   "metadata": {},
   "source": [
    "From the 12 printed observations above, there is an obvious positive linear relationship between abdomen and body  fat percentage.\n",
    "\n",
    "From the summary table above, we noticed something abnormal - the minimum and maximum body fat percentage, the maximum weight and the minimum height. These could be potential outliers and should be examined closely by re-calculating the values using other readily available measurements. "
   ]
  },
  {
   "cell_type": "code",
   "execution_count": 2,
   "metadata": {},
   "outputs": [
    {
     "data": {
      "text/html": [
       "<table>\n",
       "<thead><tr><th></th><th scope=col>bodyfat</th><th scope=col>density</th><th scope=col>age</th><th scope=col>weight</th><th scope=col>height</th><th scope=col>adiposity</th><th scope=col>neck</th><th scope=col>chest</th><th scope=col>abdomen</th><th scope=col>hip</th><th scope=col>thigh</th><th scope=col>knee</th><th scope=col>ankle</th><th scope=col>biceps</th><th scope=col>forearm</th><th scope=col>wrist</th></tr></thead>\n",
       "<tbody>\n",
       "\t<tr><th scope=row>182</th><td>0     </td><td>1.1089</td><td>40    </td><td>118.5 </td><td>68    </td><td>18.1  </td><td>33.8  </td><td>79.3  </td><td>69.4  </td><td>85    </td><td>47.2  </td><td>33.5  </td><td>20.2  </td><td>27.7  </td><td>24.6  </td><td>16.5  </td></tr>\n",
       "</tbody>\n",
       "</table>\n"
      ],
      "text/latex": [
       "\\begin{tabular}{r|llllllllllllllll}\n",
       "  & bodyfat & density & age & weight & height & adiposity & neck & chest & abdomen & hip & thigh & knee & ankle & biceps & forearm & wrist\\\\\n",
       "\\hline\n",
       "\t182 & 0      & 1.1089 & 40     & 118.5  & 68     & 18.1   & 33.8   & 79.3   & 69.4   & 85     & 47.2   & 33.5   & 20.2   & 27.7   & 24.6   & 16.5  \\\\\n",
       "\\end{tabular}\n"
      ],
      "text/markdown": [
       "\n",
       "| <!--/--> | bodyfat | density | age | weight | height | adiposity | neck | chest | abdomen | hip | thigh | knee | ankle | biceps | forearm | wrist |\n",
       "|---|---|---|---|---|---|---|---|---|---|---|---|---|---|---|---|---|\n",
       "| 182 | 0      | 1.1089 | 40     | 118.5  | 68     | 18.1   | 33.8   | 79.3   | 69.4   | 85     | 47.2   | 33.5   | 20.2   | 27.7   | 24.6   | 16.5   |\n",
       "\n"
      ],
      "text/plain": [
       "    bodyfat density age weight height adiposity neck chest abdomen hip thigh\n",
       "182 0       1.1089  40  118.5  68     18.1      33.8 79.3  69.4    85  47.2 \n",
       "    knee ankle biceps forearm wrist\n",
       "182 33.5 20.2  27.7   24.6    16.5 "
      ]
     },
     "metadata": {},
     "output_type": "display_data"
    },
    {
     "data": {
      "text/html": [
       "<table>\n",
       "<thead><tr><th></th><th scope=col>bodyfat</th><th scope=col>density</th><th scope=col>age</th><th scope=col>weight</th><th scope=col>height</th><th scope=col>adiposity</th><th scope=col>neck</th><th scope=col>chest</th><th scope=col>abdomen</th><th scope=col>hip</th><th scope=col>thigh</th><th scope=col>knee</th><th scope=col>ankle</th><th scope=col>biceps</th><th scope=col>forearm</th><th scope=col>wrist</th></tr></thead>\n",
       "<tbody>\n",
       "\t<tr><th scope=row>216</th><td>45.1 </td><td>0.995</td><td>51   </td><td>219  </td><td>64   </td><td>37.6 </td><td>41.2 </td><td>119.8</td><td>122.1</td><td>112.8</td><td>62.5 </td><td>36.9 </td><td>23.6 </td><td>34.7 </td><td>29.1 </td><td>18.4 </td></tr>\n",
       "</tbody>\n",
       "</table>\n"
      ],
      "text/latex": [
       "\\begin{tabular}{r|llllllllllllllll}\n",
       "  & bodyfat & density & age & weight & height & adiposity & neck & chest & abdomen & hip & thigh & knee & ankle & biceps & forearm & wrist\\\\\n",
       "\\hline\n",
       "\t216 & 45.1  & 0.995 & 51    & 219   & 64    & 37.6  & 41.2  & 119.8 & 122.1 & 112.8 & 62.5  & 36.9  & 23.6  & 34.7  & 29.1  & 18.4 \\\\\n",
       "\\end{tabular}\n"
      ],
      "text/markdown": [
       "\n",
       "| <!--/--> | bodyfat | density | age | weight | height | adiposity | neck | chest | abdomen | hip | thigh | knee | ankle | biceps | forearm | wrist |\n",
       "|---|---|---|---|---|---|---|---|---|---|---|---|---|---|---|---|---|\n",
       "| 216 | 45.1  | 0.995 | 51    | 219   | 64    | 37.6  | 41.2  | 119.8 | 122.1 | 112.8 | 62.5  | 36.9  | 23.6  | 34.7  | 29.1  | 18.4  |\n",
       "\n"
      ],
      "text/plain": [
       "    bodyfat density age weight height adiposity neck chest abdomen hip   thigh\n",
       "216 45.1    0.995   51  219    64     37.6      41.2 119.8 122.1   112.8 62.5 \n",
       "    knee ankle biceps forearm wrist\n",
       "216 36.9 23.6  34.7   29.1    18.4 "
      ]
     },
     "metadata": {},
     "output_type": "display_data"
    },
    {
     "data": {
      "text/html": [
       "<table>\n",
       "<thead><tr><th></th><th scope=col>bodyfat</th><th scope=col>density</th><th scope=col>age</th><th scope=col>weight</th><th scope=col>height</th><th scope=col>adiposity</th><th scope=col>neck</th><th scope=col>chest</th><th scope=col>abdomen</th><th scope=col>hip</th><th scope=col>thigh</th><th scope=col>knee</th><th scope=col>ankle</th><th scope=col>biceps</th><th scope=col>forearm</th><th scope=col>wrist</th></tr></thead>\n",
       "<tbody>\n",
       "\t<tr><th scope=row>39</th><td>33.8  </td><td>1.0202</td><td>46    </td><td>363.15</td><td>72.25 </td><td>48.9  </td><td>51.2  </td><td>136.2 </td><td>148.1 </td><td>147.7 </td><td>87.3  </td><td>49.1  </td><td>29.6  </td><td>45    </td><td>29    </td><td>21.4  </td></tr>\n",
       "</tbody>\n",
       "</table>\n"
      ],
      "text/latex": [
       "\\begin{tabular}{r|llllllllllllllll}\n",
       "  & bodyfat & density & age & weight & height & adiposity & neck & chest & abdomen & hip & thigh & knee & ankle & biceps & forearm & wrist\\\\\n",
       "\\hline\n",
       "\t39 & 33.8   & 1.0202 & 46     & 363.15 & 72.25  & 48.9   & 51.2   & 136.2  & 148.1  & 147.7  & 87.3   & 49.1   & 29.6   & 45     & 29     & 21.4  \\\\\n",
       "\\end{tabular}\n"
      ],
      "text/markdown": [
       "\n",
       "| <!--/--> | bodyfat | density | age | weight | height | adiposity | neck | chest | abdomen | hip | thigh | knee | ankle | biceps | forearm | wrist |\n",
       "|---|---|---|---|---|---|---|---|---|---|---|---|---|---|---|---|---|\n",
       "| 39 | 33.8   | 1.0202 | 46     | 363.15 | 72.25  | 48.9   | 51.2   | 136.2  | 148.1  | 147.7  | 87.3   | 49.1   | 29.6   | 45     | 29     | 21.4   |\n",
       "\n"
      ],
      "text/plain": [
       "   bodyfat density age weight height adiposity neck chest abdomen hip   thigh\n",
       "39 33.8    1.0202  46  363.15 72.25  48.9      51.2 136.2 148.1   147.7 87.3 \n",
       "   knee ankle biceps forearm wrist\n",
       "39 49.1 29.6  45     29      21.4 "
      ]
     },
     "metadata": {},
     "output_type": "display_data"
    },
    {
     "data": {
      "text/html": [
       "<table>\n",
       "<thead><tr><th></th><th scope=col>bodyfat</th><th scope=col>density</th><th scope=col>age</th><th scope=col>weight</th><th scope=col>height</th><th scope=col>adiposity</th><th scope=col>neck</th><th scope=col>chest</th><th scope=col>abdomen</th><th scope=col>hip</th><th scope=col>thigh</th><th scope=col>knee</th><th scope=col>ankle</th><th scope=col>biceps</th><th scope=col>forearm</th><th scope=col>wrist</th></tr></thead>\n",
       "<tbody>\n",
       "\t<tr><th scope=row>42</th><td>31.7 </td><td>1.025</td><td>44   </td><td>205  </td><td>29.5 </td><td>29.9 </td><td>36.6 </td><td>106  </td><td>104.3</td><td>115.5</td><td>70.6 </td><td>42.5 </td><td>23.7 </td><td>33.6 </td><td>28.7 </td><td>17.4 </td></tr>\n",
       "</tbody>\n",
       "</table>\n"
      ],
      "text/latex": [
       "\\begin{tabular}{r|llllllllllllllll}\n",
       "  & bodyfat & density & age & weight & height & adiposity & neck & chest & abdomen & hip & thigh & knee & ankle & biceps & forearm & wrist\\\\\n",
       "\\hline\n",
       "\t42 & 31.7  & 1.025 & 44    & 205   & 29.5  & 29.9  & 36.6  & 106   & 104.3 & 115.5 & 70.6  & 42.5  & 23.7  & 33.6  & 28.7  & 17.4 \\\\\n",
       "\\end{tabular}\n"
      ],
      "text/markdown": [
       "\n",
       "| <!--/--> | bodyfat | density | age | weight | height | adiposity | neck | chest | abdomen | hip | thigh | knee | ankle | biceps | forearm | wrist |\n",
       "|---|---|---|---|---|---|---|---|---|---|---|---|---|---|---|---|---|\n",
       "| 42 | 31.7  | 1.025 | 44    | 205   | 29.5  | 29.9  | 36.6  | 106   | 104.3 | 115.5 | 70.6  | 42.5  | 23.7  | 33.6  | 28.7  | 17.4  |\n",
       "\n"
      ],
      "text/plain": [
       "   bodyfat density age weight height adiposity neck chest abdomen hip   thigh\n",
       "42 31.7    1.025   44  205    29.5   29.9      36.6 106   104.3   115.5 70.6 \n",
       "   knee ankle biceps forearm wrist\n",
       "42 42.5 23.7  33.6   28.7    17.4 "
      ]
     },
     "metadata": {},
     "output_type": "display_data"
    }
   ],
   "source": [
    "# extract abnormal observations\n",
    "min.bf = which.min(bodyfat_original$bodyfat) \n",
    "max.bf = which.max(bodyfat_original$bodyfat)\n",
    "max.weight = which.max(bodyfat_original$weight)\n",
    "min.height = which.min(bodyfat_original$height)\n",
    "\n",
    "bodyfat_original[min.bf,]\n",
    "bodyfat_original[max.bf,]\n",
    "bodyfat_original[max.weight,]\n",
    "bodyfat_original[min.height,]"
   ]
  },
  {
   "cell_type": "markdown",
   "metadata": {},
   "source": [
    "Looking at the data set, the 182$^{nd}$ man has 0% body fat. Re-calculating his body fat percentage using the Siri's equation gives a negative value. Thus, we decided to omit this observation as it is impossible for someone to have negative body fat percentage. \n",
    "\n",
    "The 216$^{th}$ man has the highest body fat percentage of 45% and the re-calculated body fat gives 47.4%. Also, this man has particularly large value of weight and other body circumferences compared to his peers. On the other hand, observation 39 has the largest weight, 363.1 lbs. The adiposity and height values were used to re-calculate his weight and it showed no error. Hence, observations 216 and 39 were removed as our focus group is normal men.\n",
    "\n",
    "The 42$^{nd}$ man is 29.50 inches tall. The re-calculated height value is 69.4 inches using adiposity and weight. This value was then corrected in the data set. \n",
    "\n",
    "On the other hand, the Siri's equation shows that there exists a linear relationship between percentage of body fat and density. The following plot of body fat percentage against $\\frac{1}{Density}$ is obtained to examine whether the two variables in our data set satisfy this relationship."
   ]
  },
  {
   "cell_type": "code",
   "execution_count": 3,
   "metadata": {},
   "outputs": [
    {
     "data": {
      "image/png": "[encoded data removed]",
      "text/plain": [
       "Plot with title “Bodyfat vs. 1/Density”"
      ]
     },
     "metadata": {},
     "output_type": "display_data"
    }
   ],
   "source": [
    "library(IRdisplay)\n",
    "layout(1)\n",
    "\n",
    "library(repr)\n",
    "options(repr.plot.width=4, repr.plot.height=4)\n",
    "\n",
    "# Plot bodyfat vs 1/density\n",
    "x = plot( y = bodyfat_original$bodyfat, x = 1/bodyfat_original$density, ylab = \"Bodyfat percentage\",\n",
    "      xlab = \"1/Density\", main = \"Bodyfat vs. 1/Density\")\n",
    "\n",
    "# Add labels to points that deviate from straight line\n",
    "text(1/bodyfat_original$density[48],9,\"48\",col = \"blue\",cex=0.8)\n",
    "text(1/bodyfat_original$density[76],21,\"76\",col = \"blue\",cex=0.8)\n",
    "text(1/bodyfat_original$density[96],20,\"96\",col = \"blue\",cex=0.8)"
   ]
  },
  {
   "cell_type": "markdown",
   "metadata": {},
   "source": [
    "From the plot above, it is obvious that the majority of the points lie on the straight line except for observations 48, 76 and 96. "
   ]
  },
  {
   "cell_type": "code",
   "execution_count": 4,
   "metadata": {},
   "outputs": [
    {
     "data": {
      "text/html": [
       "<table>\n",
       "<thead><tr><th></th><th scope=col>bodyfat</th><th scope=col>density</th><th scope=col>age</th><th scope=col>weight</th><th scope=col>height</th><th scope=col>adiposity</th><th scope=col>neck</th><th scope=col>chest</th><th scope=col>abdomen</th><th scope=col>hip</th><th scope=col>thigh</th><th scope=col>knee</th><th scope=col>ankle</th><th scope=col>biceps</th><th scope=col>forearm</th><th scope=col>wrist</th></tr></thead>\n",
       "<tbody>\n",
       "\t<tr><th scope=row>48</th><td>6.4   </td><td>1.0665</td><td>39    </td><td>148.5 </td><td>71.25 </td><td>20.6  </td><td>34.6  </td><td>89.8  </td><td>79.5  </td><td>92.7  </td><td>52.7  </td><td>37.5  </td><td>21.9  </td><td>28.8  </td><td>26.8  </td><td>17.9  </td></tr>\n",
       "</tbody>\n",
       "</table>\n"
      ],
      "text/latex": [
       "\\begin{tabular}{r|llllllllllllllll}\n",
       "  & bodyfat & density & age & weight & height & adiposity & neck & chest & abdomen & hip & thigh & knee & ankle & biceps & forearm & wrist\\\\\n",
       "\\hline\n",
       "\t48 & 6.4    & 1.0665 & 39     & 148.5  & 71.25  & 20.6   & 34.6   & 89.8   & 79.5   & 92.7   & 52.7   & 37.5   & 21.9   & 28.8   & 26.8   & 17.9  \\\\\n",
       "\\end{tabular}\n"
      ],
      "text/markdown": [
       "\n",
       "| <!--/--> | bodyfat | density | age | weight | height | adiposity | neck | chest | abdomen | hip | thigh | knee | ankle | biceps | forearm | wrist |\n",
       "|---|---|---|---|---|---|---|---|---|---|---|---|---|---|---|---|---|\n",
       "| 48 | 6.4    | 1.0665 | 39     | 148.5  | 71.25  | 20.6   | 34.6   | 89.8   | 79.5   | 92.7   | 52.7   | 37.5   | 21.9   | 28.8   | 26.8   | 17.9   |\n",
       "\n"
      ],
      "text/plain": [
       "   bodyfat density age weight height adiposity neck chest abdomen hip  thigh\n",
       "48 6.4     1.0665  39  148.5  71.25  20.6      34.6 89.8  79.5    92.7 52.7 \n",
       "   knee ankle biceps forearm wrist\n",
       "48 37.5 21.9  28.8   26.8    17.9 "
      ]
     },
     "metadata": {},
     "output_type": "display_data"
    },
    {
     "data": {
      "text/html": [
       "<table>\n",
       "<thead><tr><th></th><th scope=col>bodyfat</th><th scope=col>density</th><th scope=col>age</th><th scope=col>weight</th><th scope=col>height</th><th scope=col>adiposity</th><th scope=col>neck</th><th scope=col>chest</th><th scope=col>abdomen</th><th scope=col>hip</th><th scope=col>thigh</th><th scope=col>knee</th><th scope=col>ankle</th><th scope=col>biceps</th><th scope=col>forearm</th><th scope=col>wrist</th></tr></thead>\n",
       "<tbody>\n",
       "\t<tr><th scope=row>76</th><td>18.3  </td><td>1.0666</td><td>61    </td><td>148.25</td><td>67.5  </td><td>22.9  </td><td>36    </td><td>91.6  </td><td>81.8  </td><td>94.8  </td><td>54.5  </td><td>37    </td><td>21.4  </td><td>29.3  </td><td>27    </td><td>18.3  </td></tr>\n",
       "</tbody>\n",
       "</table>\n"
      ],
      "text/latex": [
       "\\begin{tabular}{r|llllllllllllllll}\n",
       "  & bodyfat & density & age & weight & height & adiposity & neck & chest & abdomen & hip & thigh & knee & ankle & biceps & forearm & wrist\\\\\n",
       "\\hline\n",
       "\t76 & 18.3   & 1.0666 & 61     & 148.25 & 67.5   & 22.9   & 36     & 91.6   & 81.8   & 94.8   & 54.5   & 37     & 21.4   & 29.3   & 27     & 18.3  \\\\\n",
       "\\end{tabular}\n"
      ],
      "text/markdown": [
       "\n",
       "| <!--/--> | bodyfat | density | age | weight | height | adiposity | neck | chest | abdomen | hip | thigh | knee | ankle | biceps | forearm | wrist |\n",
       "|---|---|---|---|---|---|---|---|---|---|---|---|---|---|---|---|---|\n",
       "| 76 | 18.3   | 1.0666 | 61     | 148.25 | 67.5   | 22.9   | 36     | 91.6   | 81.8   | 94.8   | 54.5   | 37     | 21.4   | 29.3   | 27     | 18.3   |\n",
       "\n"
      ],
      "text/plain": [
       "   bodyfat density age weight height adiposity neck chest abdomen hip  thigh\n",
       "76 18.3    1.0666  61  148.25 67.5   22.9      36   91.6  81.8    94.8 54.5 \n",
       "   knee ankle biceps forearm wrist\n",
       "76 37   21.4  29.3   27      18.3 "
      ]
     },
     "metadata": {},
     "output_type": "display_data"
    },
    {
     "data": {
      "text/html": [
       "<table>\n",
       "<thead><tr><th></th><th scope=col>bodyfat</th><th scope=col>density</th><th scope=col>age</th><th scope=col>weight</th><th scope=col>height</th><th scope=col>adiposity</th><th scope=col>neck</th><th scope=col>chest</th><th scope=col>abdomen</th><th scope=col>hip</th><th scope=col>thigh</th><th scope=col>knee</th><th scope=col>ankle</th><th scope=col>biceps</th><th scope=col>forearm</th><th scope=col>wrist</th></tr></thead>\n",
       "<tbody>\n",
       "\t<tr><th scope=row>96</th><td>17.3  </td><td>1.0991</td><td>53    </td><td>224.5 </td><td>77.75 </td><td>26.1  </td><td>41.1  </td><td>113.2 </td><td>99.2  </td><td>107.5 </td><td>61.7  </td><td>42.3  </td><td>23.2  </td><td>32.9  </td><td>30.8  </td><td>20.4  </td></tr>\n",
       "</tbody>\n",
       "</table>\n"
      ],
      "text/latex": [
       "\\begin{tabular}{r|llllllllllllllll}\n",
       "  & bodyfat & density & age & weight & height & adiposity & neck & chest & abdomen & hip & thigh & knee & ankle & biceps & forearm & wrist\\\\\n",
       "\\hline\n",
       "\t96 & 17.3   & 1.0991 & 53     & 224.5  & 77.75  & 26.1   & 41.1   & 113.2  & 99.2   & 107.5  & 61.7   & 42.3   & 23.2   & 32.9   & 30.8   & 20.4  \\\\\n",
       "\\end{tabular}\n"
      ],
      "text/markdown": [
       "\n",
       "| <!--/--> | bodyfat | density | age | weight | height | adiposity | neck | chest | abdomen | hip | thigh | knee | ankle | biceps | forearm | wrist |\n",
       "|---|---|---|---|---|---|---|---|---|---|---|---|---|---|---|---|---|\n",
       "| 96 | 17.3   | 1.0991 | 53     | 224.5  | 77.75  | 26.1   | 41.1   | 113.2  | 99.2   | 107.5  | 61.7   | 42.3   | 23.2   | 32.9   | 30.8   | 20.4   |\n",
       "\n"
      ],
      "text/plain": [
       "   bodyfat density age weight height adiposity neck chest abdomen hip   thigh\n",
       "96 17.3    1.0991  53  224.5  77.75  26.1      41.1 113.2 99.2    107.5 61.7 \n",
       "   knee ankle biceps forearm wrist\n",
       "96 42.3 23.2  32.9   30.8    20.4 "
      ]
     },
     "metadata": {},
     "output_type": "display_data"
    }
   ],
   "source": [
    "# observations on plot that deviate from straight line\n",
    "bodyfat_original[48,]\n",
    "bodyfat_original[76,]\n",
    "bodyfat_original[96,]"
   ]
  },
  {
   "cell_type": "markdown",
   "metadata": {},
   "source": [
    "The above table shows the measurements for the three observations. As percentage of body fat can be determined from density using Siri's equation and vice versa, the percentage of body fat for these observations were calculated. The density for observations 48 and 76 are similar and the body fat recalculated is 14.1% (to the nearest tenth) while that for observation 96 is 0.4% which does not make sense considering the high value of other measurements. Thus, we replaced the percentage of body fat for observations 48 and 76 with 14.1% and re-calculated and corrected the density for observation 96 (which is 1.0953). After making these changes, all points lie on the straight line.\n",
    "\n",
    "After correcting for the height value for observation 42 and body fat percentage for observation 48 and 76, removing density variable and remove observations 39, 182 and 216."
   ]
  },
  {
   "cell_type": "code",
   "execution_count": 5,
   "metadata": {},
   "outputs": [
    {
     "data": {
      "text/plain": [
       "    bodyfat           age            weight          height     \n",
       " Min.   : 1.90   Min.   :22.00   Min.   :125.0   Min.   :64.00  \n",
       " 1st Qu.:13.20   1st Qu.:35.00   1st Qu.:159.2   1st Qu.:68.50  \n",
       " Median :19.00   Median :43.00   Median :176.2   Median :70.00  \n",
       " Mean   :18.86   Mean   :44.88   Mean   :178.3   Mean   :70.33  \n",
       " 3rd Qu.:24.50   3rd Qu.:54.00   3rd Qu.:196.8   3rd Qu.:72.25  \n",
       " Max.   :38.20   Max.   :81.00   Max.   :262.8   Max.   :77.75  \n",
       "   adiposity          neck           chest          abdomen      \n",
       " Min.   :19.10   Min.   :31.10   Min.   : 83.4   Min.   : 70.40  \n",
       " 1st Qu.:23.10   1st Qu.:36.40   1st Qu.: 94.4   1st Qu.: 84.60  \n",
       " Median :25.00   Median :38.00   Median : 99.6   Median : 90.90  \n",
       " Mean   :25.32   Mean   :37.94   Mean   :100.7   Mean   : 92.31  \n",
       " 3rd Qu.:27.30   3rd Qu.:39.40   3rd Qu.:105.3   3rd Qu.: 99.20  \n",
       " Max.   :39.10   Max.   :43.90   Max.   :128.3   Max.   :126.20  \n",
       "      hip             thigh            knee           ankle      \n",
       " Min.   : 85.30   Min.   :49.30   Min.   :33.00   Min.   :19.10  \n",
       " 1st Qu.: 95.50   1st Qu.:56.00   1st Qu.:37.10   1st Qu.:22.00  \n",
       " Median : 99.30   Median :59.00   Median :38.50   Median :22.80  \n",
       " Mean   : 99.72   Mean   :59.33   Mean   :38.58   Mean   :23.09  \n",
       " 3rd Qu.:103.20   3rd Qu.:62.30   3rd Qu.:39.90   3rd Qu.:24.00  \n",
       " Max.   :125.60   Max.   :74.40   Max.   :46.00   Max.   :33.90  \n",
       "     biceps         forearm          wrist      \n",
       " Min.   :24.80   Min.   :21.00   Min.   :15.80  \n",
       " 1st Qu.:30.20   1st Qu.:27.30   1st Qu.:17.60  \n",
       " Median :32.00   Median :28.70   Median :18.30  \n",
       " Mean   :32.23   Mean   :28.68   Mean   :18.22  \n",
       " 3rd Qu.:34.30   3rd Qu.:30.00   3rd Qu.:18.80  \n",
       " Max.   :39.10   Max.   :34.90   Max.   :21.40  "
      ]
     },
     "metadata": {},
     "output_type": "display_data"
    }
   ],
   "source": [
    "# correct the values, remove density variable and remove observations 39, 182 and 216\n",
    "# Replace bodyfat for obs 48, 76 with Siri equation\n",
    "bodyfat_original$bodyfat[76] =  round(495/bodyfat_original$density[76]-450,digits=1)\n",
    "bodyfat_original$bodyfat[48] =  round(495/bodyfat_original$density[48]-450,digits=1)\n",
    "\n",
    "# replace body density in bodyfat_dat for obs 96 with Siri equation\n",
    "bodyfat_original$density[96] =  round(495/(450+bodyfat_original$bodyfat[96]),digits=4)\n",
    "\n",
    "# remove density variable\n",
    "bodyfat_original = bodyfat_original[,-2]\n",
    "\n",
    "# replace height of observation 42 with 69.4\n",
    "bodyfat_original$height[42] = 69.4\n",
    "# remove observations 39, 182 and 216\n",
    "bodyfat_cleaned = bodyfat_original[-c(39,182,216),]\n",
    "rownames(bodyfat_cleaned) = NULL\n",
    "summary(bodyfat_cleaned)"
   ]
  },
  {
   "cell_type": "markdown",
   "metadata": {},
   "source": [
    "Looking at the summary, the minimum body fat is 1.90 which is abnormal for a healthy adult man. The re-calculated body fat value using the Siri's equation returned a lower value of 0.70. Thus, we decided to remove this observation from the data set. The final data set for analysis contains 248 observations and 15 variables."
   ]
  },
  {
   "cell_type": "code",
   "execution_count": 6,
   "metadata": {},
   "outputs": [],
   "source": [
    "# remove observation with bodyfat = 1.9\n",
    "bodyfat_cleaned = bodyfat_cleaned[-171,]\n",
    "\n",
    "# write csv\n",
    "write.csv(bodyfat_cleaned, file=\"bodyfat_cleaned.csv\",row.names = FALSE)"
   ]
  },
  {
   "cell_type": "markdown",
   "metadata": {},
   "source": [
    "## Variable Selection"
   ]
  },
  {
   "cell_type": "markdown",
   "metadata": {},
   "source": [
    "### A. Preliminary Analysis"
   ]
  },
  {
   "cell_type": "markdown",
   "metadata": {},
   "source": [
    "We plotted body fat percentage against each predictor variable to examine the relationship between them and there seems to be a linear relationship between body fat percentage and all other variables except height and ankle. Several transformation techniques have been applied on the height and ankle variables but the linear relationship was not obvious. The pearson correlation coefficient between body fat percentage and each predictor is tabulated as follows:"
   ]
  },
  {
   "cell_type": "code",
   "execution_count": 7,
   "metadata": {},
   "outputs": [
    {
     "data": {
      "text/html": [
       "<dl class=dl-horizontal>\n",
       "\t<dt>abdomen</dt>\n",
       "\t\t<dd>0.811763158249488</dd>\n",
       "\t<dt>adiposity</dt>\n",
       "\t\t<dd>0.725191168589913</dd>\n",
       "\t<dt>chest</dt>\n",
       "\t\t<dd>0.681729285416714</dd>\n",
       "\t<dt>hip</dt>\n",
       "\t\t<dd>0.616656745528305</dd>\n",
       "\t<dt>weight</dt>\n",
       "\t\t<dd>0.601398259183846</dd>\n",
       "\t<dt>thigh</dt>\n",
       "\t\t<dd>0.541551597682215</dd>\n",
       "\t<dt>knee</dt>\n",
       "\t\t<dd>0.503535165218659</dd>\n",
       "\t<dt>biceps</dt>\n",
       "\t\t<dd>0.461326558749564</dd>\n",
       "\t<dt>neck</dt>\n",
       "\t\t<dd>0.45618343638976</dd>\n",
       "\t<dt>forearm</dt>\n",
       "\t\t<dd>0.349527683476146</dd>\n",
       "\t<dt>wrist</dt>\n",
       "\t\t<dd>0.315287326177353</dd>\n",
       "\t<dt>age</dt>\n",
       "\t\t<dd>0.283362890271464</dd>\n",
       "\t<dt>ankle</dt>\n",
       "\t\t<dd>0.23175960660123</dd>\n",
       "\t<dt>height</dt>\n",
       "\t\t<dd>-0.0205151488418585</dd>\n",
       "</dl>\n"
      ],
      "text/latex": [
       "\\begin{description*}\n",
       "\\item[abdomen] 0.811763158249488\n",
       "\\item[adiposity] 0.725191168589913\n",
       "\\item[chest] 0.681729285416714\n",
       "\\item[hip] 0.616656745528305\n",
       "\\item[weight] 0.601398259183846\n",
       "\\item[thigh] 0.541551597682215\n",
       "\\item[knee] 0.503535165218659\n",
       "\\item[biceps] 0.461326558749564\n",
       "\\item[neck] 0.45618343638976\n",
       "\\item[forearm] 0.349527683476146\n",
       "\\item[wrist] 0.315287326177353\n",
       "\\item[age] 0.283362890271464\n",
       "\\item[ankle] 0.23175960660123\n",
       "\\item[height] -0.0205151488418585\n",
       "\\end{description*}\n"
      ],
      "text/markdown": [
       "abdomen\n",
       ":   0.811763158249488adiposity\n",
       ":   0.725191168589913chest\n",
       ":   0.681729285416714hip\n",
       ":   0.616656745528305weight\n",
       ":   0.601398259183846thigh\n",
       ":   0.541551597682215knee\n",
       ":   0.503535165218659biceps\n",
       ":   0.461326558749564neck\n",
       ":   0.45618343638976forearm\n",
       ":   0.349527683476146wrist\n",
       ":   0.315287326177353age\n",
       ":   0.283362890271464ankle\n",
       ":   0.23175960660123height\n",
       ":   -0.0205151488418585\n",
       "\n"
      ],
      "text/plain": [
       "    abdomen   adiposity       chest         hip      weight       thigh \n",
       " 0.81176316  0.72519117  0.68172929  0.61665675  0.60139826  0.54155160 \n",
       "       knee      biceps        neck     forearm       wrist         age \n",
       " 0.50353517  0.46132656  0.45618344  0.34952768  0.31528733  0.28336289 \n",
       "      ankle      height \n",
       " 0.23175961 -0.02051515 "
      ]
     },
     "metadata": {},
     "output_type": "display_data"
    }
   ],
   "source": [
    "# calculate pearson correlation coefficient between body fat percentage \n",
    "# and each predictor variable \n",
    "\n",
    "x = subset(bodyfat_cleaned, select = -bodyfat)\n",
    "y = bodyfat_cleaned$bodyfat\n",
    "correlation = cor(x, y, method = c(\"pearson\"))\n",
    "order = correlation[order(-abs(correlation[,1])),]\n",
    "order"
   ]
  },
  {
   "cell_type": "markdown",
   "metadata": {},
   "source": [
    "The absolute value of pearson correlation coefficients also showed that height and ankle are the lowest. \n",
    "\n",
    "A simple multiple linear regression model consisting of all predictors was then fitted in this project and Box-Cox transfomation on response variable was considered. The corresponding lambda value when log-likelohood is at the maximum is approximately 1, suggesting that no tranformation is needed on body fat percentage."
   ]
  },
  {
   "cell_type": "markdown",
   "metadata": {},
   "source": [
    "### B. Methods "
   ]
  },
  {
   "cell_type": "markdown",
   "metadata": {},
   "source": [
    "Several methods were used to select the best subset of predictors: forward, backward and stepwise selections using AIC and BIC criteria, best subset selection (based on both BIC and *R$^{2}_{adj}$*), Lasso regression as well as Mallow's Cp. "
   ]
  },
  {
   "cell_type": "code",
   "execution_count": 8,
   "metadata": {},
   "outputs": [
    {
     "name": "stderr",
     "output_type": "stream",
     "text": [
      "Loading required package: Matrix\n",
      "Loading required package: foreach\n",
      "Loaded glmnet 2.0-16\n",
      "\n"
     ]
    }
   ],
   "source": [
    "# full model - multiple linear regression\n",
    "full.model = lm(bodyfat~., data = bodyfat_cleaned)\n",
    "\n",
    "# stepwise selection\n",
    "model.bic.both = step(full.model, direction = \"both\", k = log(nrow(bodyfat_cleaned)), trace = FALSE)\n",
    "model.aic.both = step(full.model, direction = \"both\", k = 2, trace = FALSE)\n",
    "\n",
    "# backward selection\n",
    "model.bic.backward = step(full.model, direction = \"backward\", k = log(nrow(bodyfat_cleaned)), trace = FALSE)\n",
    "model.aic.backward= step(full.model, direction = \"backward\", k = 2, trace = FALSE)\n",
    "\n",
    "# forward selection\n",
    "model.bic.forward = step(full.model, direction = \"forward\", k = log(nrow(bodyfat_cleaned)), trace = FALSE)\n",
    "model.aic.forward = step(full.model, direction = \"forward\", k = 2, trace = FALSE)\n",
    "\n",
    "# best subset selection\n",
    "library(leaps)\n",
    "bestsubset = regsubsets(bodyfat~., data=bodyfat_cleaned, nvmax=ncol((bodyfat_cleaned)-1))\n",
    "summary.bestsubset = summary(bestsubset)\n",
    "model.bestsubset = lm(bodyfat~weight+abdomen+wrist, data=bodyfat_cleaned)\n",
    "\n",
    "# fit lasso\n",
    "library(glmnet)\n",
    "x = model.matrix(bodyfat~., data = bodyfat_cleaned)[,-1]\n",
    "y = bodyfat_cleaned$bodyfat\n",
    "model.cv.lasso = cv.glmnet(x, y, family = \"gaussian\", alpha = 1, type.measure = \"mse\")\n",
    "\n",
    "# Mallow's Cp criterion\n",
    "library(faraway)\n",
    "mallow_Cp = leaps(x,y,nbest = 1)\n",
    "mallow_Cp = leaps(x,y,nbest = 1)"
   ]
  },
  {
   "cell_type": "markdown",
   "metadata": {},
   "source": [
    "The following table shows the subset of variables selected by each method. It is shown that the two variables abdomen and wrist are selected by all methods, suggesting that these variables are important in predicting body fat percentage."
   ]
  },
  {
   "cell_type": "markdown",
   "metadata": {},
   "source": [
    "| method | age | weight | height | adiposity | neck | chest |  abdomen | hip | thigh | knee | ankle | biceps| forearm | wrist |\n",
    "| --- | --- | --- | --- | --- | --- | --- | --- | --- | --- | --- | --- | --- | --- | --- |\n",
    "|stepwise (BIC) | | | <ul><li> | | | | <ul><li> | | | | | | | <ul><li> |\n",
    "|stepwise (AIC) | <ul><li> | | <ul><li> | <ul><li> |<ul><li> | <ul><li> | <ul><li> | <ul><li> | | | | |<ul><li> |<ul><li> |\n",
    "|backward (BIC) |<ul><li> | | | | | |<ul><li> | | | | | | |<ul><li>|\n",
    "|backward (AIC) | <ul><li>| | |<ul><li> |<ul><li> | <ul><li>|<ul><li> |<ul><li> | | | | | <ul><li>|<ul><li> |\n",
    "|forward (BIC)  | <ul><li>| <ul><li>|<ul><li> |<ul><li> |<ul><li> |<ul><li> |<ul><li> |<ul><li> |<ul><li> |<ul><li> |<ul><li> |<ul><li> |<ul><li> |<ul><li> |\n",
    "|forward (AIC)  | <ul><li>| <ul><li>|<ul><li> |<ul><li> |<ul><li> |<ul><li> |<ul><li> |<ul><li> |<ul><li> |<ul><li> |<ul><li> |<ul><li> |<ul><li> |<ul><li> |\n",
    "|best subset    | | <ul><li>| | | | | <ul><li>| | | | | | |<ul><li> |\n",
    "|Lasso          | <ul><li>| |<ul><li> | | | | <ul><li>| | | | | | | <ul><li>|\n",
    "|Mallow's Cp    | <ul><li>| | <ul><li>| | | <ul><li>| <ul><li>| | | | | <ul><li>| | <ul><li>|"
   ]
  },
  {
   "cell_type": "markdown",
   "metadata": {},
   "source": [
    "## Statistical Analysis"
   ]
  },
  {
   "cell_type": "markdown",
   "metadata": {},
   "source": [
    "### A. Best Model Fitting\n",
    "\n",
    "Here are some models listed to compare $R^2$ and $MSE$ (mean of least square error). The listed models are either models with variable selection methods or models with small amount of features."
   ]
  },
  {
   "cell_type": "code",
   "execution_count": 9,
   "metadata": {},
   "outputs": [
    {
     "data": {
      "text/html": [
       "<table>\n",
       "<thead><tr><th></th><th scope=col>features</th><th scope=col>Adj R2</th><th scope=col>MSE</th></tr></thead>\n",
       "<tbody>\n",
       "\t<tr><th scope=row>model0_1</th><td>abdomen                                     </td><td>0.6576                                      </td><td>4.3123                                      </td></tr>\n",
       "\t<tr><th scope=row>model1_0</th><td>abdomen+wrist                               </td><td>0.699                                       </td><td>4.0433                                      </td></tr>\n",
       "\t<tr><th scope=row>model1_1</th><td>weight+abdomen+wrist                        </td><td>0.715                                       </td><td>3.9342                                      </td></tr>\n",
       "\t<tr><th scope=row>model1_2</th><td>age+height+abdomen+wrist                    </td><td>0.7178                                      </td><td>3.9145                                      </td></tr>\n",
       "\t<tr><th scope=row>model1_3</th><td>age+height+chest+abdomen+biceps+wrist       </td><td>0.7206                                      </td><td>3.8952                                      </td></tr>\n",
       "\t<tr><th scope=row>model1_4</th><td>weight+height+adiposity+abdomen+biceps+wrist</td><td>0.716                                       </td><td>3.9273                                      </td></tr>\n",
       "</tbody>\n",
       "</table>\n"
      ],
      "text/latex": [
       "\\begin{tabular}{r|lll}\n",
       "  & features & Adj R2 & MSE\\\\\n",
       "\\hline\n",
       "\tmodel0\\_1 & abdomen                                      & 0.6576                                       & 4.3123                                      \\\\\n",
       "\tmodel1\\_0 & abdomen+wrist                                & 0.699                                        & 4.0433                                      \\\\\n",
       "\tmodel1\\_1 & weight+abdomen+wrist                         & 0.715                                        & 3.9342                                      \\\\\n",
       "\tmodel1\\_2 & age+height+abdomen+wrist                     & 0.7178                                       & 3.9145                                      \\\\\n",
       "\tmodel1\\_3 & age+height+chest+abdomen+biceps+wrist        & 0.7206                                       & 3.8952                                      \\\\\n",
       "\tmodel1\\_4 & weight+height+adiposity+abdomen+biceps+wrist & 0.716                                        & 3.9273                                      \\\\\n",
       "\\end{tabular}\n"
      ],
      "text/markdown": [
       "\n",
       "| <!--/--> | features | Adj R2 | MSE |\n",
       "|---|---|---|---|\n",
       "| model0_1 | abdomen                                      | 0.6576                                       | 4.3123                                       |\n",
       "| model1_0 | abdomen+wrist                                | 0.699                                        | 4.0433                                       |\n",
       "| model1_1 | weight+abdomen+wrist                         | 0.715                                        | 3.9342                                       |\n",
       "| model1_2 | age+height+abdomen+wrist                     | 0.7178                                       | 3.9145                                       |\n",
       "| model1_3 | age+height+chest+abdomen+biceps+wrist        | 0.7206                                       | 3.8952                                       |\n",
       "| model1_4 | weight+height+adiposity+abdomen+biceps+wrist | 0.716                                        | 3.9273                                       |\n",
       "\n"
      ],
      "text/plain": [
       "         features                                     Adj R2 MSE   \n",
       "model0_1 abdomen                                      0.6576 4.3123\n",
       "model1_0 abdomen+wrist                                0.699  4.0433\n",
       "model1_1 weight+abdomen+wrist                         0.715  3.9342\n",
       "model1_2 age+height+abdomen+wrist                     0.7178 3.9145\n",
       "model1_3 age+height+chest+abdomen+biceps+wrist        0.7206 3.8952\n",
       "model1_4 weight+height+adiposity+abdomen+biceps+wrist 0.716  3.9273"
      ]
     },
     "metadata": {},
     "output_type": "display_data"
    }
   ],
   "source": [
    "model0_1 = lm(bodyfat ~ abdomen , data = bodyfat_cleaned)\n",
    "model1_0 = lm(bodyfat ~ abdomen + wrist, data = bodyfat_cleaned)\n",
    "model1_1 = lm(bodyfat ~ weight + abdomen + wrist , data = bodyfat_cleaned)\n",
    "model1_2 = lm(bodyfat ~ age + height + abdomen + wrist , data = bodyfat_cleaned)\n",
    "model1_3 = lm(bodyfat ~ age + height + chest + abdomen + biceps + wrist , data = bodyfat_cleaned)\n",
    "model1_4 = lm(bodyfat ~ weight + height + adiposity + abdomen + biceps + wrist , data = bodyfat_cleaned)\n",
    "\n",
    "library('stringr')\n",
    "modelout = function(model_in){\n",
    "  colname = str_c(colnames(model_in$model),collapse = \"+\")\n",
    "  colname = sub(\"bodyfat\\\\+\",\"\",colname)\n",
    "  out = summary(model_in)\n",
    "  R2 = round(out$adj.r.squared,4)\n",
    "  MSE = round(out$sigma,4)\n",
    "  output = c(colname,R2,MSE)\n",
    "  return(output)\n",
    "}\n",
    "\n",
    "input0_1 = modelout(model0_1)\n",
    "input1_0 = modelout(model1_0)\n",
    "input1_1 = modelout(model1_1)\n",
    "input1_2 = modelout(model1_2)\n",
    "input1_3 = modelout(model1_3)\n",
    "input1_4 = modelout(model1_4)\n",
    "model_data = data.frame(rbind(input0_1, input1_0, input1_1, input1_2, input1_3, input1_4 ))\n",
    "colnames(model_data) = c(\"features\",\"Adj R2\",\"MSE\")\n",
    "rownames(model_data) = c('model0_1', 'model1_0', 'model1_1', 'model1_2', 'model1_3', 'model1_4')\n",
    "model_data\n"
   ]
  },
  {
   "cell_type": "markdown",
   "metadata": {},
   "source": [
    "We decide to choose the model with two features: abdomen and wrist. There are mainly three reasons.\n",
    "1. The results of different variable selection methods above all include abdomen and wrist variables.\n",
    "2. We find that measurement of Adjusted $R^2$ and $MSE$ do not imporve too much after adding more variables. For example, the model with the biggest imporvement is model1_3, which reduce $MSE$ for about 4% but it includes four more variables, which increase the model complexity a lot.\n",
    "3. The model with only two variables has small model complexity and it is easy to interpret each variable."
   ]
  },
  {
   "cell_type": "markdown",
   "metadata": {},
   "source": [
    "### B. Model Diagnostics\n",
    "\n",
    "Our final model is $Bodyfat = \\beta_0 + \\beta_1 \\cdot abdomen + \\beta_2 \\cdot wrist$. <br>\n",
    "We generally check the model based on three parts: the influential points, the assumption on normality and the assumption on residuals."
   ]
  },
  {
   "cell_type": "markdown",
   "metadata": {},
   "source": [
    "#### 1. Checking for Influential Points"
   ]
  },
  {
   "cell_type": "code",
   "execution_count": 10,
   "metadata": {},
   "outputs": [
    {
     "data": {
      "image/png": "[encoded data removed]",
      "text/plain": [
       "Plot with title “”"
      ]
     },
     "metadata": {},
     "output_type": "display_data"
    }
   ],
   "source": [
    "cutoff = 4/(nrow(bodyfat_cleaned) - length(model1_0$coefficients-2))\n",
    "plot(model1_0,which = 4, cook.levels = cutoff )\n",
    "abline(cutoff,0,col = \"red\")"
   ]
  },
  {
   "cell_type": "code",
   "execution_count": 11,
   "metadata": {},
   "outputs": [
    {
     "data": {
      "text/html": [
       "<table>\n",
       "<thead><tr><th></th><th scope=col>bodyfat</th><th scope=col>age</th><th scope=col>weight</th><th scope=col>height</th><th scope=col>adiposity</th><th scope=col>neck</th><th scope=col>chest</th><th scope=col>abdomen</th><th scope=col>hip</th><th scope=col>thigh</th><th scope=col>knee</th><th scope=col>ankle</th><th scope=col>biceps</th><th scope=col>forearm</th><th scope=col>wrist</th></tr></thead>\n",
       "<tbody>\n",
       "\t<tr><th scope=row>40</th><td>33.1  </td><td>45    </td><td>262.75</td><td>68.75 </td><td>39.1  </td><td>43.2  </td><td>128.3 </td><td>126.2 </td><td>125.6 </td><td>72.5  </td><td>39.6  </td><td>26.6  </td><td>36.4  </td><td>32.7  </td><td>21.4  </td></tr>\n",
       "\t<tr><th scope=row>139</th><td>20.1  </td><td>49    </td><td>212.75</td><td>75.00 </td><td>26.6  </td><td>40.8  </td><td>104.7 </td><td>106.6 </td><td>107.7 </td><td>66.5  </td><td>42.5  </td><td>24.5  </td><td>35.5  </td><td>29.8  </td><td>18.7  </td></tr>\n",
       "\t<tr><th scope=row>179</th><td>16.8  </td><td>39    </td><td>234.75</td><td>74.50 </td><td>29.8  </td><td>42.8  </td><td>109.5 </td><td>104.5 </td><td>109.9 </td><td>69.5  </td><td>43.1  </td><td>25.8  </td><td>39.1  </td><td>32.5  </td><td>19.9  </td></tr>\n",
       "\t<tr><th scope=row>190</th><td>36.5  </td><td>42    </td><td>244.25</td><td>76.00 </td><td>29.8  </td><td>41.8  </td><td>115.2 </td><td>113.7 </td><td>112.4 </td><td>68.5  </td><td>45.0  </td><td>25.5  </td><td>37.1  </td><td>31.2  </td><td>19.9  </td></tr>\n",
       "\t<tr><th scope=row>205</th><td>31.7  </td><td>44    </td><td>166.00</td><td>65.50 </td><td>27.2  </td><td>39.1  </td><td>100.6 </td><td> 93.9 </td><td>100.1 </td><td>58.9  </td><td>37.6  </td><td>21.4  </td><td>33.1  </td><td>29.5  </td><td>17.3  </td></tr>\n",
       "\t<tr><th scope=row>221</th><td> 6.1  </td><td>55    </td><td>142.25</td><td>67.25 </td><td>22.2  </td><td>35.2  </td><td> 92.7 </td><td> 82.8 </td><td> 91.9 </td><td>54.4  </td><td>35.2  </td><td>22.5  </td><td>29.4  </td><td>26.8  </td><td>17.0  </td></tr>\n",
       "\t<tr><th scope=row>235</th><td>26.4  </td><td>63    </td><td>219.15</td><td>69.50 </td><td>31.9  </td><td>40.2  </td><td>117.6 </td><td>113.8 </td><td>111.8 </td><td>63.4  </td><td>41.1  </td><td>22.3  </td><td>35.1  </td><td>29.6  </td><td>18.5  </td></tr>\n",
       "\t<tr><th scope=row>246</th><td>32.3  </td><td>72    </td><td>201.00</td><td>69.75 </td><td>29.1  </td><td>40.9  </td><td>108.5 </td><td>105.0 </td><td>104.5 </td><td>59.6  </td><td>40.8  </td><td>23.2  </td><td>35.2  </td><td>28.6  </td><td>20.1  </td></tr>\n",
       "\t<tr><th scope=row>249</th><td>30.7  </td><td>74    </td><td>207.50</td><td>70.00 </td><td>29.8  </td><td>40.8  </td><td>112.4 </td><td>108.5 </td><td>107.1 </td><td>59.3  </td><td>42.2  </td><td>24.6  </td><td>33.7  </td><td>30.0  </td><td>20.9  </td></tr>\n",
       "</tbody>\n",
       "</table>\n"
      ],
      "text/latex": [
       "\\begin{tabular}{r|lllllllllllllll}\n",
       "  & bodyfat & age & weight & height & adiposity & neck & chest & abdomen & hip & thigh & knee & ankle & biceps & forearm & wrist\\\\\n",
       "\\hline\n",
       "\t40 & 33.1   & 45     & 262.75 & 68.75  & 39.1   & 43.2   & 128.3  & 126.2  & 125.6  & 72.5   & 39.6   & 26.6   & 36.4   & 32.7   & 21.4  \\\\\n",
       "\t139 & 20.1   & 49     & 212.75 & 75.00  & 26.6   & 40.8   & 104.7  & 106.6  & 107.7  & 66.5   & 42.5   & 24.5   & 35.5   & 29.8   & 18.7  \\\\\n",
       "\t179 & 16.8   & 39     & 234.75 & 74.50  & 29.8   & 42.8   & 109.5  & 104.5  & 109.9  & 69.5   & 43.1   & 25.8   & 39.1   & 32.5   & 19.9  \\\\\n",
       "\t190 & 36.5   & 42     & 244.25 & 76.00  & 29.8   & 41.8   & 115.2  & 113.7  & 112.4  & 68.5   & 45.0   & 25.5   & 37.1   & 31.2   & 19.9  \\\\\n",
       "\t205 & 31.7   & 44     & 166.00 & 65.50  & 27.2   & 39.1   & 100.6  &  93.9  & 100.1  & 58.9   & 37.6   & 21.4   & 33.1   & 29.5   & 17.3  \\\\\n",
       "\t221 &  6.1   & 55     & 142.25 & 67.25  & 22.2   & 35.2   &  92.7  &  82.8  &  91.9  & 54.4   & 35.2   & 22.5   & 29.4   & 26.8   & 17.0  \\\\\n",
       "\t235 & 26.4   & 63     & 219.15 & 69.50  & 31.9   & 40.2   & 117.6  & 113.8  & 111.8  & 63.4   & 41.1   & 22.3   & 35.1   & 29.6   & 18.5  \\\\\n",
       "\t246 & 32.3   & 72     & 201.00 & 69.75  & 29.1   & 40.9   & 108.5  & 105.0  & 104.5  & 59.6   & 40.8   & 23.2   & 35.2   & 28.6   & 20.1  \\\\\n",
       "\t249 & 30.7   & 74     & 207.50 & 70.00  & 29.8   & 40.8   & 112.4  & 108.5  & 107.1  & 59.3   & 42.2   & 24.6   & 33.7   & 30.0   & 20.9  \\\\\n",
       "\\end{tabular}\n"
      ],
      "text/markdown": [
       "\n",
       "| <!--/--> | bodyfat | age | weight | height | adiposity | neck | chest | abdomen | hip | thigh | knee | ankle | biceps | forearm | wrist |\n",
       "|---|---|---|---|---|---|---|---|---|---|---|---|---|---|---|---|\n",
       "| 40 | 33.1   | 45     | 262.75 | 68.75  | 39.1   | 43.2   | 128.3  | 126.2  | 125.6  | 72.5   | 39.6   | 26.6   | 36.4   | 32.7   | 21.4   |\n",
       "| 139 | 20.1   | 49     | 212.75 | 75.00  | 26.6   | 40.8   | 104.7  | 106.6  | 107.7  | 66.5   | 42.5   | 24.5   | 35.5   | 29.8   | 18.7   |\n",
       "| 179 | 16.8   | 39     | 234.75 | 74.50  | 29.8   | 42.8   | 109.5  | 104.5  | 109.9  | 69.5   | 43.1   | 25.8   | 39.1   | 32.5   | 19.9   |\n",
       "| 190 | 36.5   | 42     | 244.25 | 76.00  | 29.8   | 41.8   | 115.2  | 113.7  | 112.4  | 68.5   | 45.0   | 25.5   | 37.1   | 31.2   | 19.9   |\n",
       "| 205 | 31.7   | 44     | 166.00 | 65.50  | 27.2   | 39.1   | 100.6  |  93.9  | 100.1  | 58.9   | 37.6   | 21.4   | 33.1   | 29.5   | 17.3   |\n",
       "| 221 |  6.1   | 55     | 142.25 | 67.25  | 22.2   | 35.2   |  92.7  |  82.8  |  91.9  | 54.4   | 35.2   | 22.5   | 29.4   | 26.8   | 17.0   |\n",
       "| 235 | 26.4   | 63     | 219.15 | 69.50  | 31.9   | 40.2   | 117.6  | 113.8  | 111.8  | 63.4   | 41.1   | 22.3   | 35.1   | 29.6   | 18.5   |\n",
       "| 246 | 32.3   | 72     | 201.00 | 69.75  | 29.1   | 40.9   | 108.5  | 105.0  | 104.5  | 59.6   | 40.8   | 23.2   | 35.2   | 28.6   | 20.1   |\n",
       "| 249 | 30.7   | 74     | 207.50 | 70.00  | 29.8   | 40.8   | 112.4  | 108.5  | 107.1  | 59.3   | 42.2   | 24.6   | 33.7   | 30.0   | 20.9   |\n",
       "\n"
      ],
      "text/plain": [
       "    bodyfat age weight height adiposity neck chest abdomen hip   thigh knee\n",
       "40  33.1    45  262.75 68.75  39.1      43.2 128.3 126.2   125.6 72.5  39.6\n",
       "139 20.1    49  212.75 75.00  26.6      40.8 104.7 106.6   107.7 66.5  42.5\n",
       "179 16.8    39  234.75 74.50  29.8      42.8 109.5 104.5   109.9 69.5  43.1\n",
       "190 36.5    42  244.25 76.00  29.8      41.8 115.2 113.7   112.4 68.5  45.0\n",
       "205 31.7    44  166.00 65.50  27.2      39.1 100.6  93.9   100.1 58.9  37.6\n",
       "221  6.1    55  142.25 67.25  22.2      35.2  92.7  82.8    91.9 54.4  35.2\n",
       "235 26.4    63  219.15 69.50  31.9      40.2 117.6 113.8   111.8 63.4  41.1\n",
       "246 32.3    72  201.00 69.75  29.1      40.9 108.5 105.0   104.5 59.6  40.8\n",
       "249 30.7    74  207.50 70.00  29.8      40.8 112.4 108.5   107.1 59.3  42.2\n",
       "    ankle biceps forearm wrist\n",
       "40  26.6  36.4   32.7    21.4 \n",
       "139 24.5  35.5   29.8    18.7 \n",
       "179 25.8  39.1   32.5    19.9 \n",
       "190 25.5  37.1   31.2    19.9 \n",
       "205 21.4  33.1   29.5    17.3 \n",
       "221 22.5  29.4   26.8    17.0 \n",
       "235 22.3  35.1   29.6    18.5 \n",
       "246 23.2  35.2   28.6    20.1 \n",
       "249 24.6  33.7   30.0    20.9 "
      ]
     },
     "metadata": {},
     "output_type": "display_data"
    }
   ],
   "source": [
    "index = which(cooks.distance(model1_0)>cutoff)\n",
    "bodyfat_cleaned[index,]"
   ]
  },
  {
   "cell_type": "markdown",
   "metadata": {},
   "source": [
    "We find that there are 9 points which Cook's Distance is greater than the threshold value. The measurements for these observations look normal and therefore we decided to retain all the observations in our model."
   ]
  },
  {
   "cell_type": "markdown",
   "metadata": {},
   "source": [
    "#### 2. Checking for Normality"
   ]
  },
  {
   "cell_type": "code",
   "execution_count": 12,
   "metadata": {},
   "outputs": [
    {
     "data": {
      "image/png": "[encoded data removed]",
      "text/plain": [
       "Plot with title “”"
      ]
     },
     "metadata": {},
     "output_type": "display_data"
    }
   ],
   "source": [
    "plot(model1_0,which = 2)"
   ]
  },
  {
   "cell_type": "markdown",
   "metadata": {},
   "source": [
    "According to the QQ-plot, all points are close to the dashed diagnoal line, so we believe that the residuals follow the normally distribution."
   ]
  },
  {
   "cell_type": "markdown",
   "metadata": {},
   "source": [
    "#### 3. Checking for Residuals"
   ]
  },
  {
   "cell_type": "code",
   "execution_count": 13,
   "metadata": {},
   "outputs": [
    {
     "data": {
      "image/png": "[encoded data removed]",
      "text/plain": [
       "Plot with title “”"
      ]
     },
     "metadata": {},
     "output_type": "display_data"
    }
   ],
   "source": [
    "plot(model1_0,which = 1)"
   ]
  },
  {
   "cell_type": "markdown",
   "metadata": {},
   "source": [
    "The model tends to have a higher variance when fitted values range from 15 to 25. Also, the mean of the resiaduals become smaller when fitted value is in the range of 30 to 35. So we believe that our model does not satisfy $E(\\varepsilon) = 0$ and $Var(\\varepsilon) =$ constant $\\sigma^2$ perfectly."
   ]
  },
  {
   "cell_type": "markdown",
   "metadata": {},
   "source": [
    "### C. Hypothesis Testing\n",
    "\n",
    "We generally do the following 2 hypothesis testing:\n",
    "1. t-testing on coefficients $H_0: \\beta_i = 0$ v.s. $H_1: \\beta_i \\neq 0$\n",
    "2. F-testing on the full model we choose $H_0 = \\beta_1 = \\beta_2 = 0$ v.s. $H_1: H_0$ not true"
   ]
  },
  {
   "cell_type": "code",
   "execution_count": 14,
   "metadata": {
    "scrolled": true
   },
   "outputs": [
    {
     "data": {
      "text/plain": [
       "\n",
       "Call:\n",
       "lm(formula = bodyfat ~ abdomen + wrist, data = bodyfat_cleaned)\n",
       "\n",
       "Residuals:\n",
       "    Min      1Q  Median      3Q     Max \n",
       "-9.4347 -2.9466 -0.1478  2.9312 10.4217 \n",
       "\n",
       "Coefficients:\n",
       "            Estimate Std. Error t value Pr(>|t|)    \n",
       "(Intercept) -9.26943    5.23360  -1.771   0.0778 .  \n",
       "abdomen      0.71469    0.03216  22.225  < 2e-16 ***\n",
       "wrist       -2.07472    0.35157  -5.901 1.19e-08 ***\n",
       "---\n",
       "Signif. codes:  0 ‘***’ 0.001 ‘**’ 0.01 ‘*’ 0.05 ‘.’ 0.1 ‘ ’ 1\n",
       "\n",
       "Residual standard error: 4.043 on 245 degrees of freedom\n",
       "Multiple R-squared:  0.7014,\tAdjusted R-squared:  0.699 \n",
       "F-statistic: 287.8 on 2 and 245 DF,  p-value: < 2.2e-16\n"
      ]
     },
     "metadata": {},
     "output_type": "display_data"
    }
   ],
   "source": [
    "summary(model1_0)"
   ]
  },
  {
   "cell_type": "markdown",
   "metadata": {},
   "source": [
    "Based on F-testing, our model has a siginficant effect for all variables.<br>\n",
    "Based on t-testing, all of our variables are significant according to p-values and standard errors for each variable is small, with a significant level less that 0.05. The abdomen variable has a positive effect on bodyfat while the wrist variable has a negative effect on bodyfat. <br>"
   ]
  },
  {
   "cell_type": "markdown",
   "metadata": {},
   "source": [
    "\n",
    "\n",
    "## Interpretation"
   ]
  },
  {
   "cell_type": "code",
   "execution_count": 15,
   "metadata": {
    "scrolled": true
   },
   "outputs": [
    {
     "data": {
      "text/html": [
       "<dl class=dl-horizontal>\n",
       "\t<dt>(Intercept)</dt>\n",
       "\t\t<dd>-9.26942546096276</dd>\n",
       "\t<dt>abdomen</dt>\n",
       "\t\t<dd>0.714691215392542</dd>\n",
       "\t<dt>wrist</dt>\n",
       "\t\t<dd>-2.07472313684091</dd>\n",
       "</dl>\n"
      ],
      "text/latex": [
       "\\begin{description*}\n",
       "\\item[(Intercept)] -9.26942546096276\n",
       "\\item[abdomen] 0.714691215392542\n",
       "\\item[wrist] -2.07472313684091\n",
       "\\end{description*}\n"
      ],
      "text/markdown": [
       "(Intercept)\n",
       ":   -9.26942546096276abdomen\n",
       ":   0.714691215392542wrist\n",
       ":   -2.07472313684091\n",
       "\n"
      ],
      "text/plain": [
       "(Intercept)     abdomen       wrist \n",
       " -9.2694255   0.7146912  -2.0747231 "
      ]
     },
     "metadata": {},
     "output_type": "display_data"
    },
    {
     "data": {
      "text/html": [
       "<table>\n",
       "<thead><tr><th></th><th scope=col>2.5 %</th><th scope=col>97.5 %</th></tr></thead>\n",
       "<tbody>\n",
       "\t<tr><th scope=row>(Intercept)</th><td>-19.578025</td><td> 1.0391741</td></tr>\n",
       "\t<tr><th scope=row>abdomen</th><td>  0.651351</td><td> 0.7780314</td></tr>\n",
       "\t<tr><th scope=row>wrist</th><td> -2.767210</td><td>-1.3822366</td></tr>\n",
       "</tbody>\n",
       "</table>\n"
      ],
      "text/latex": [
       "\\begin{tabular}{r|ll}\n",
       "  & 2.5 \\% & 97.5 \\%\\\\\n",
       "\\hline\n",
       "\t(Intercept) & -19.578025 &  1.0391741\\\\\n",
       "\tabdomen &   0.651351 &  0.7780314\\\\\n",
       "\twrist &  -2.767210 & -1.3822366\\\\\n",
       "\\end{tabular}\n"
      ],
      "text/markdown": [
       "\n",
       "| <!--/--> | 2.5 % | 97.5 % |\n",
       "|---|---|---|\n",
       "| (Intercept) | -19.578025 |  1.0391741 |\n",
       "| abdomen |   0.651351 |  0.7780314 |\n",
       "| wrist |  -2.767210 | -1.3822366 |\n",
       "\n"
      ],
      "text/plain": [
       "            2.5 %      97.5 %    \n",
       "(Intercept) -19.578025  1.0391741\n",
       "abdomen       0.651351  0.7780314\n",
       "wrist        -2.767210 -1.3822366"
      ]
     },
     "metadata": {},
     "output_type": "display_data"
    }
   ],
   "source": [
    "model1_0$coefficients\n",
    "confint(model1_0)\n",
    "# Plot Confidence interval on y"
   ]
  },
  {
   "cell_type": "markdown",
   "metadata": {},
   "source": [
    "A \"unit\" increase in abdomen is associated with a 0.715 \"unit\" increase in body fat.<br>\n",
    "A \"unit\" increase in wrist is associated with 2.075 \"unit\" decrease in body fat.<br>\n",
    "\n",
    "The body fat is positvely related to abdomen, which means the higher abdomen is, the higher body fat a man tends to have.<br>\n",
    "We find that there is a negative relationship between wrist and body fat, which contradicts our common sense. Based on our common knowledge, a man with higher wrist may be fatter, which leads to a higher body fat. <br>\n",
    "Based on the density formula $density = \\frac{Mass}{Volume}$, an object with higher volume will have a lower density. So we believe that the negative relation is due to a higher body size (Volume), which can be implied by larger wrist.<br>"
   ]
  },
  {
   "cell_type": "markdown",
   "metadata": {},
   "source": [
    "## Layman's expression\n"
   ]
  },
  {
   "cell_type": "code",
   "execution_count": 16,
   "metadata": {},
   "outputs": [
    {
     "data": {
      "text/html": [
       "<table>\n",
       "<thead><tr><th scope=col>fit</th><th scope=col>lwr</th><th scope=col>upr</th></tr></thead>\n",
       "<tbody>\n",
       "\t<tr><td>17.70777</td><td>17.18315</td><td>18.23239</td></tr>\n",
       "</tbody>\n",
       "</table>\n"
      ],
      "text/latex": [
       "\\begin{tabular}{r|lll}\n",
       " fit & lwr & upr\\\\\n",
       "\\hline\n",
       "\t 17.70777 & 17.18315 & 18.23239\\\\\n",
       "\\end{tabular}\n"
      ],
      "text/markdown": [
       "\n",
       "| fit | lwr | upr |\n",
       "|---|---|---|\n",
       "| 17.70777 | 17.18315 | 18.23239 |\n",
       "\n"
      ],
      "text/plain": [
       "  fit      lwr      upr     \n",
       "1 17.70777 17.18315 18.23239"
      ]
     },
     "metadata": {},
     "output_type": "display_data"
    }
   ],
   "source": [
    "newdata = data.frame('abdomen' = 90, 'wrist' = 18)\n",
    "predict.lm(model1_0,newdata,interval = 'confidence',level = 0.95)"
   ]
  },
  {
   "cell_type": "markdown",
   "metadata": {},
   "source": [
    "A man's body fat comes from 0.7 times abdomen, minus 2 times wrist, minus 10.<br>\n",
    "For example, suppose that a male whose abdomen is 90 cm and whose wrist is 18 cm, then his body fat is about 17.71%.<br> \n",
    "There is a 95% probability that his body fat is between 17.18% and 18.23%."
   ]
  },
  {
   "cell_type": "markdown",
   "metadata": {},
   "source": [
    "## Strengths and Weaknesses"
   ]
  },
  {
   "cell_type": "markdown",
   "metadata": {},
   "source": [
    "Strengths:\n",
    "1. The linear model only includes two variables, which is easy to expalain and has small model complexity.\n",
    "2. All variables(abdomen and wrist) can be easily measured.\n",
    "3. The model is a good fitted model, with 70.14% adjusted $R^2$ and 4.06 Mean Square Error.\n",
    "4. The linear model satisfy the normality assumption.\n",
    "5. The confidence intervals on the coefficient of abroden and wrist are relatively small.\n",
    "\n",
    "Weaknesses:\n",
    "1. The model may violate the some assumptions, including the residual-mean-zero assumption and residual-constant-variance assumption.\n",
    "2. The confidence interval on the coefficient of intercept is relatively big.\n",
    "3. The model haven't consider higher order variables or interactions of different variables."
   ]
  },
  {
   "cell_type": "markdown",
   "metadata": {},
   "source": [
    "## Conclusion"
   ]
  },
  {
   "cell_type": "markdown",
   "metadata": {},
   "source": [
    "Overall, our model gives a simple way to predict body fat percentage which is easy to understand and accurate. However, the model may still have some problem, for examples some linear model assumptions on error terms are violated."
   ]
  },
  {
   "cell_type": "markdown",
   "metadata": {},
   "source": [
    "## Duties"
   ]
  },
  {
   "cell_type": "markdown",
   "metadata": {},
   "source": [
    "1. Bi Qing Teng: Analysing raw data, data cleaning and variable selection\n",
    "2. Xiaoxiang Hua: Variable selection, Model Diagnostics, Model interpretation and Model strength and weaknesses\n",
    "3. Yijie Liu: Write the Shiny app code, and make the slides, and jupyter notebook summary."
   ]
  },
  {
   "cell_type": "markdown",
   "metadata": {},
   "source": [
    "## Reference"
   ]
  },
  {
   "cell_type": "markdown",
   "metadata": {},
   "source": [
    "[1] Body fat calculators:  \n",
    "\n",
    "https://bmi-calories.com/body-fat-percentage-calculator.html  \n",
    "http://www.bmi-calculator.net/body-fat-calculator/\n",
    "\n",
    "[2] Bailey, Covert (1994). _Smart Exercise: Burning Fat, Getting Fit_, Houghton-Mifflin Co., Boston, pp. 179-186.  \n",
    "\n",
    "[3] Behnke, A.R. and Wilmore, J.H. (1974). _Evaluation and Regulation of Body Build and Composition_, Prentice-Hall, Englewood Cliffs, N.J.  \n",
    "\n",
    "[4] Siri, W.E. (1956), \"Gross composition of the body\", in _Advances in  Biological and Medical Physics_, vol. IV, edited by J.H. Lawrence and C.A. Tobias, Academic Press, Inc., New York.  \n",
    "\n",
    "[5] Katch, Frank and McArdle, William (1977). _Nutrition, Weight Control, and Exercise_, Houghton Mifflin Co., Boston.  \n",
    "\n",
    "[6] Wilmore, Jack (1976). _Athletic Training and Physical Fitness: Physiological Principles of the Conditioning Process_, Allyn and Bacon, Inc., Boston.\n"
   ]
  }
 ],
 "metadata": {
  "kernelspec": {
   "display_name": "R",
   "language": "R",
   "name": "ir"
  },
  "language_info": {
   "codemirror_mode": "r",
   "file_extension": ".r",
   "mimetype": "text/x-r-source",
   "name": "R",
   "pygments_lexer": "r",
   "version": "3.6.1"
  }
 },
 "nbformat": 4,
 "nbformat_minor": 2
}
