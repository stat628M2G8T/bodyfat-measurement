{
 "cells": [
  {
   "cell_type": "markdown",
   "metadata": {},
   "source": [
    "# Prediction of Body Fat Percentage "
   ]
  },
  {
   "cell_type": "markdown",
   "metadata": {},
   "source": [
    "*Xiaoxiang Hua, xhua24@wisc.edu*  \n",
    "*YiJie Liu, liu854@wisc.edu*  \n",
    "*Bi Qing Teng, bteng2@wisc.edu*    \n",
    "\n",
    "*October 7, 2019*"
   ]
  },
  {
   "cell_type": "markdown",
   "metadata": {},
   "source": [
    "## Abstract"
   ]
  },
  {
   "cell_type": "markdown",
   "metadata": {},
   "source": []
  },
  {
   "cell_type": "markdown",
   "metadata": {},
   "source": [
    "## Background"
   ]
  },
  {
   "cell_type": "markdown",
   "metadata": {},
   "source": [
    "Various methods have been used to measure one's health and fitness including waist-to-height ratio, body fat percentage, skin-fold measurements using a caliper, body mass index (BMI) etc.\n",
    "\n",
    "According to the American Council on Exercise, the percentage of body fat of a normal adult male typically ranges from 18% to 24%. The percentage of body fat can be estimated using the Siri's equation\n",
    "\n",
    "$$Percent Body Fat = \\frac{495}{D}-450$$\n",
    "\n",
    "where D is the body density which can be accurately measured using underwater hydrostatic weighing procedures. Although this method gives an accurate measurement of the body fat percentage, it is both cumbersome and difficult to measure. "
   ]
  },
  {
   "cell_type": "markdown",
   "metadata": {},
   "source": [
    "## Aim"
   ]
  },
  {
   "cell_type": "markdown",
   "metadata": {},
   "source": [
    "This project aims to study the relationship between body fat percentage and the clinically available measurements and then come up with a simple, robust, accurate and precise \"rule-of-thumb\" to predict percentage of body fat from a subset of predictors. "
   ]
  },
  {
   "cell_type": "markdown",
   "metadata": {},
   "source": [
    "## Data Preparation"
   ]
  },
  {
   "cell_type": "markdown",
   "metadata": {},
   "source": [
    "The data set **bodyfat.csv** contains 252 observations and 17 variables with no missing data. In particular, the variables are **idno**, **body fat percentage** (%), **body density** (gm/cm$^3$), **age** (years), **weight** (lbs), **height** (inches), **adiposity** (bmi), **neck**, **chest**, **abdomen**, **hip**, **thigh**, **knee, ankle, biceps, forearm** and **wrist** circumferences measured in cm. The weight and height variables were measured to the nearest quarter pound and inch respectively while other variables were measured to the nearest tenth of a centimeter."
   ]
  },
  {
   "cell_type": "code",
   "execution_count": 47,
   "metadata": {
    "scrolled": true
   },
   "outputs": [
    {
     "data": {
      "text/html": [
       "<table>\n",
       "<thead><tr><th scope=col>bodyfat</th><th scope=col>density</th><th scope=col>age</th><th scope=col>weight</th><th scope=col>height</th><th scope=col>adiposity</th><th scope=col>neck</th><th scope=col>chest</th><th scope=col>abdomen</th><th scope=col>hip</th><th scope=col>thigh</th><th scope=col>knee</th><th scope=col>ankle</th><th scope=col>biceps</th><th scope=col>forearm</th><th scope=col>wrist</th></tr></thead>\n",
       "<tbody>\n",
       "\t<tr><td>12.6  </td><td>1.0708</td><td>23    </td><td>154.25</td><td>67.75 </td><td>23.7  </td><td>36.2  </td><td> 93.1 </td><td> 85.2 </td><td> 94.5 </td><td>59.0  </td><td>37.3  </td><td>21.9  </td><td>32.0  </td><td>27.4  </td><td>17.1  </td></tr>\n",
       "\t<tr><td> 6.9  </td><td>1.0853</td><td>22    </td><td>173.25</td><td>72.25 </td><td>23.4  </td><td>38.5  </td><td> 93.6 </td><td> 83.0 </td><td> 98.7 </td><td>58.7  </td><td>37.3  </td><td>23.4  </td><td>30.5  </td><td>28.9  </td><td>18.2  </td></tr>\n",
       "\t<tr><td>24.6  </td><td>1.0414</td><td>22    </td><td>154.00</td><td>66.25 </td><td>24.7  </td><td>34.0  </td><td> 95.8 </td><td> 87.9 </td><td> 99.2 </td><td>59.6  </td><td>38.9  </td><td>24.0  </td><td>28.8  </td><td>25.2  </td><td>16.6  </td></tr>\n",
       "\t<tr><td>10.9  </td><td>1.0751</td><td>26    </td><td>184.75</td><td>72.25 </td><td>24.9  </td><td>37.4  </td><td>101.8 </td><td> 86.4 </td><td>101.2 </td><td>60.1  </td><td>37.3  </td><td>22.8  </td><td>32.4  </td><td>29.4  </td><td>18.2  </td></tr>\n",
       "\t<tr><td>27.8  </td><td>1.0340</td><td>24    </td><td>184.25</td><td>71.25 </td><td>25.6  </td><td>34.4  </td><td> 97.3 </td><td>100.0 </td><td>101.9 </td><td>63.2  </td><td>42.2  </td><td>24.0  </td><td>32.2  </td><td>27.7  </td><td>17.7  </td></tr>\n",
       "\t<tr><td>20.6  </td><td>1.0502</td><td>24    </td><td>210.25</td><td>74.75 </td><td>26.5  </td><td>39.0  </td><td>104.5 </td><td> 94.4 </td><td>107.8 </td><td>66.0  </td><td>42.0  </td><td>25.6  </td><td>35.7  </td><td>30.6  </td><td>18.8  </td></tr>\n",
       "</tbody>\n",
       "</table>\n"
      ],
      "text/latex": [
       "\\begin{tabular}{r|llllllllllllllll}\n",
       " bodyfat & density & age & weight & height & adiposity & neck & chest & abdomen & hip & thigh & knee & ankle & biceps & forearm & wrist\\\\\n",
       "\\hline\n",
       "\t 12.6   & 1.0708 & 23     & 154.25 & 67.75  & 23.7   & 36.2   &  93.1  &  85.2  &  94.5  & 59.0   & 37.3   & 21.9   & 32.0   & 27.4   & 17.1  \\\\\n",
       "\t  6.9   & 1.0853 & 22     & 173.25 & 72.25  & 23.4   & 38.5   &  93.6  &  83.0  &  98.7  & 58.7   & 37.3   & 23.4   & 30.5   & 28.9   & 18.2  \\\\\n",
       "\t 24.6   & 1.0414 & 22     & 154.00 & 66.25  & 24.7   & 34.0   &  95.8  &  87.9  &  99.2  & 59.6   & 38.9   & 24.0   & 28.8   & 25.2   & 16.6  \\\\\n",
       "\t 10.9   & 1.0751 & 26     & 184.75 & 72.25  & 24.9   & 37.4   & 101.8  &  86.4  & 101.2  & 60.1   & 37.3   & 22.8   & 32.4   & 29.4   & 18.2  \\\\\n",
       "\t 27.8   & 1.0340 & 24     & 184.25 & 71.25  & 25.6   & 34.4   &  97.3  & 100.0  & 101.9  & 63.2   & 42.2   & 24.0   & 32.2   & 27.7   & 17.7  \\\\\n",
       "\t 20.6   & 1.0502 & 24     & 210.25 & 74.75  & 26.5   & 39.0   & 104.5  &  94.4  & 107.8  & 66.0   & 42.0   & 25.6   & 35.7   & 30.6   & 18.8  \\\\\n",
       "\\end{tabular}\n"
      ],
      "text/markdown": [
       "\n",
       "| bodyfat | density | age | weight | height | adiposity | neck | chest | abdomen | hip | thigh | knee | ankle | biceps | forearm | wrist |\n",
       "|---|---|---|---|---|---|---|---|---|---|---|---|---|---|---|---|\n",
       "| 12.6   | 1.0708 | 23     | 154.25 | 67.75  | 23.7   | 36.2   |  93.1  |  85.2  |  94.5  | 59.0   | 37.3   | 21.9   | 32.0   | 27.4   | 17.1   |\n",
       "|  6.9   | 1.0853 | 22     | 173.25 | 72.25  | 23.4   | 38.5   |  93.6  |  83.0  |  98.7  | 58.7   | 37.3   | 23.4   | 30.5   | 28.9   | 18.2   |\n",
       "| 24.6   | 1.0414 | 22     | 154.00 | 66.25  | 24.7   | 34.0   |  95.8  |  87.9  |  99.2  | 59.6   | 38.9   | 24.0   | 28.8   | 25.2   | 16.6   |\n",
       "| 10.9   | 1.0751 | 26     | 184.75 | 72.25  | 24.9   | 37.4   | 101.8  |  86.4  | 101.2  | 60.1   | 37.3   | 22.8   | 32.4   | 29.4   | 18.2   |\n",
       "| 27.8   | 1.0340 | 24     | 184.25 | 71.25  | 25.6   | 34.4   |  97.3  | 100.0  | 101.9  | 63.2   | 42.2   | 24.0   | 32.2   | 27.7   | 17.7   |\n",
       "| 20.6   | 1.0502 | 24     | 210.25 | 74.75  | 26.5   | 39.0   | 104.5  |  94.4  | 107.8  | 66.0   | 42.0   | 25.6   | 35.7   | 30.6   | 18.8   |\n",
       "\n"
      ],
      "text/plain": [
       "  bodyfat density age weight height adiposity neck chest abdomen hip   thigh\n",
       "1 12.6    1.0708  23  154.25 67.75  23.7      36.2  93.1  85.2    94.5 59.0 \n",
       "2  6.9    1.0853  22  173.25 72.25  23.4      38.5  93.6  83.0    98.7 58.7 \n",
       "3 24.6    1.0414  22  154.00 66.25  24.7      34.0  95.8  87.9    99.2 59.6 \n",
       "4 10.9    1.0751  26  184.75 72.25  24.9      37.4 101.8  86.4   101.2 60.1 \n",
       "5 27.8    1.0340  24  184.25 71.25  25.6      34.4  97.3 100.0   101.9 63.2 \n",
       "6 20.6    1.0502  24  210.25 74.75  26.5      39.0 104.5  94.4   107.8 66.0 \n",
       "  knee ankle biceps forearm wrist\n",
       "1 37.3 21.9  32.0   27.4    17.1 \n",
       "2 37.3 23.4  30.5   28.9    18.2 \n",
       "3 38.9 24.0  28.8   25.2    16.6 \n",
       "4 37.3 22.8  32.4   29.4    18.2 \n",
       "5 42.2 24.0  32.2   27.7    17.7 \n",
       "6 42.0 25.6  35.7   30.6    18.8 "
      ]
     },
     "metadata": {},
     "output_type": "display_data"
    },
    {
     "data": {
      "text/html": [
       "<table>\n",
       "<thead><tr><th></th><th scope=col>bodyfat</th><th scope=col>density</th><th scope=col>age</th><th scope=col>weight</th><th scope=col>height</th><th scope=col>adiposity</th><th scope=col>neck</th><th scope=col>chest</th><th scope=col>abdomen</th><th scope=col>hip</th><th scope=col>thigh</th><th scope=col>knee</th><th scope=col>ankle</th><th scope=col>biceps</th><th scope=col>forearm</th><th scope=col>wrist</th></tr></thead>\n",
       "<tbody>\n",
       "\t<tr><th scope=row>247</th><td>29.1  </td><td>1.0308</td><td>69    </td><td>215.50</td><td>70.50 </td><td>30.5  </td><td>40.8  </td><td>113.7 </td><td>107.6 </td><td>110.0 </td><td>63.3  </td><td>44.0  </td><td>22.6  </td><td>37.5  </td><td>32.6  </td><td>18.8  </td></tr>\n",
       "\t<tr><th scope=row>248</th><td>11.5  </td><td>1.0736</td><td>70    </td><td>134.25</td><td>67.00 </td><td>21.1  </td><td>34.9  </td><td> 89.2 </td><td> 83.6 </td><td> 88.8 </td><td>49.6  </td><td>34.8  </td><td>21.5  </td><td>25.6  </td><td>25.7  </td><td>18.5  </td></tr>\n",
       "\t<tr><th scope=row>249</th><td>32.3  </td><td>1.0236</td><td>72    </td><td>201.00</td><td>69.75 </td><td>29.1  </td><td>40.9  </td><td>108.5 </td><td>105.0 </td><td>104.5 </td><td>59.6  </td><td>40.8  </td><td>23.2  </td><td>35.2  </td><td>28.6  </td><td>20.1  </td></tr>\n",
       "\t<tr><th scope=row>250</th><td>28.3  </td><td>1.0328</td><td>72    </td><td>186.75</td><td>66.00 </td><td>30.2  </td><td>38.9  </td><td>111.1 </td><td>111.5 </td><td>101.7 </td><td>60.3  </td><td>37.3  </td><td>21.5  </td><td>31.3  </td><td>27.2  </td><td>18.0  </td></tr>\n",
       "\t<tr><th scope=row>251</th><td>25.3  </td><td>1.0399</td><td>72    </td><td>190.75</td><td>70.50 </td><td>27.0  </td><td>38.9  </td><td>108.3 </td><td>101.3 </td><td> 97.8 </td><td>56.0  </td><td>41.6  </td><td>22.7  </td><td>30.5  </td><td>29.4  </td><td>19.8  </td></tr>\n",
       "\t<tr><th scope=row>252</th><td>30.7  </td><td>1.0271</td><td>74    </td><td>207.50</td><td>70.00 </td><td>29.8  </td><td>40.8  </td><td>112.4 </td><td>108.5 </td><td>107.1 </td><td>59.3  </td><td>42.2  </td><td>24.6  </td><td>33.7  </td><td>30.0  </td><td>20.9  </td></tr>\n",
       "</tbody>\n",
       "</table>\n"
      ],
      "text/latex": [
       "\\begin{tabular}{r|llllllllllllllll}\n",
       "  & bodyfat & density & age & weight & height & adiposity & neck & chest & abdomen & hip & thigh & knee & ankle & biceps & forearm & wrist\\\\\n",
       "\\hline\n",
       "\t247 & 29.1   & 1.0308 & 69     & 215.50 & 70.50  & 30.5   & 40.8   & 113.7  & 107.6  & 110.0  & 63.3   & 44.0   & 22.6   & 37.5   & 32.6   & 18.8  \\\\\n",
       "\t248 & 11.5   & 1.0736 & 70     & 134.25 & 67.00  & 21.1   & 34.9   &  89.2  &  83.6  &  88.8  & 49.6   & 34.8   & 21.5   & 25.6   & 25.7   & 18.5  \\\\\n",
       "\t249 & 32.3   & 1.0236 & 72     & 201.00 & 69.75  & 29.1   & 40.9   & 108.5  & 105.0  & 104.5  & 59.6   & 40.8   & 23.2   & 35.2   & 28.6   & 20.1  \\\\\n",
       "\t250 & 28.3   & 1.0328 & 72     & 186.75 & 66.00  & 30.2   & 38.9   & 111.1  & 111.5  & 101.7  & 60.3   & 37.3   & 21.5   & 31.3   & 27.2   & 18.0  \\\\\n",
       "\t251 & 25.3   & 1.0399 & 72     & 190.75 & 70.50  & 27.0   & 38.9   & 108.3  & 101.3  &  97.8  & 56.0   & 41.6   & 22.7   & 30.5   & 29.4   & 19.8  \\\\\n",
       "\t252 & 30.7   & 1.0271 & 74     & 207.50 & 70.00  & 29.8   & 40.8   & 112.4  & 108.5  & 107.1  & 59.3   & 42.2   & 24.6   & 33.7   & 30.0   & 20.9  \\\\\n",
       "\\end{tabular}\n"
      ],
      "text/markdown": [
       "\n",
       "| <!--/--> | bodyfat | density | age | weight | height | adiposity | neck | chest | abdomen | hip | thigh | knee | ankle | biceps | forearm | wrist |\n",
       "|---|---|---|---|---|---|---|---|---|---|---|---|---|---|---|---|---|\n",
       "| 247 | 29.1   | 1.0308 | 69     | 215.50 | 70.50  | 30.5   | 40.8   | 113.7  | 107.6  | 110.0  | 63.3   | 44.0   | 22.6   | 37.5   | 32.6   | 18.8   |\n",
       "| 248 | 11.5   | 1.0736 | 70     | 134.25 | 67.00  | 21.1   | 34.9   |  89.2  |  83.6  |  88.8  | 49.6   | 34.8   | 21.5   | 25.6   | 25.7   | 18.5   |\n",
       "| 249 | 32.3   | 1.0236 | 72     | 201.00 | 69.75  | 29.1   | 40.9   | 108.5  | 105.0  | 104.5  | 59.6   | 40.8   | 23.2   | 35.2   | 28.6   | 20.1   |\n",
       "| 250 | 28.3   | 1.0328 | 72     | 186.75 | 66.00  | 30.2   | 38.9   | 111.1  | 111.5  | 101.7  | 60.3   | 37.3   | 21.5   | 31.3   | 27.2   | 18.0   |\n",
       "| 251 | 25.3   | 1.0399 | 72     | 190.75 | 70.50  | 27.0   | 38.9   | 108.3  | 101.3  |  97.8  | 56.0   | 41.6   | 22.7   | 30.5   | 29.4   | 19.8   |\n",
       "| 252 | 30.7   | 1.0271 | 74     | 207.50 | 70.00  | 29.8   | 40.8   | 112.4  | 108.5  | 107.1  | 59.3   | 42.2   | 24.6   | 33.7   | 30.0   | 20.9   |\n",
       "\n"
      ],
      "text/plain": [
       "    bodyfat density age weight height adiposity neck chest abdomen hip   thigh\n",
       "247 29.1    1.0308  69  215.50 70.50  30.5      40.8 113.7 107.6   110.0 63.3 \n",
       "248 11.5    1.0736  70  134.25 67.00  21.1      34.9  89.2  83.6    88.8 49.6 \n",
       "249 32.3    1.0236  72  201.00 69.75  29.1      40.9 108.5 105.0   104.5 59.6 \n",
       "250 28.3    1.0328  72  186.75 66.00  30.2      38.9 111.1 111.5   101.7 60.3 \n",
       "251 25.3    1.0399  72  190.75 70.50  27.0      38.9 108.3 101.3    97.8 56.0 \n",
       "252 30.7    1.0271  74  207.50 70.00  29.8      40.8 112.4 108.5   107.1 59.3 \n",
       "    knee ankle biceps forearm wrist\n",
       "247 44.0 22.6  37.5   32.6    18.8 \n",
       "248 34.8 21.5  25.6   25.7    18.5 \n",
       "249 40.8 23.2  35.2   28.6    20.1 \n",
       "250 37.3 21.5  31.3   27.2    18.0 \n",
       "251 41.6 22.7  30.5   29.4    19.8 \n",
       "252 42.2 24.6  33.7   30.0    20.9 "
      ]
     },
     "metadata": {},
     "output_type": "display_data"
    },
    {
     "data": {
      "text/plain": [
       "    bodyfat         density           age            weight     \n",
       " Min.   : 0.00   Min.   :0.995   Min.   :22.00   Min.   :118.5  \n",
       " 1st Qu.:12.80   1st Qu.:1.041   1st Qu.:35.75   1st Qu.:159.0  \n",
       " Median :19.00   Median :1.055   Median :43.00   Median :176.5  \n",
       " Mean   :18.94   Mean   :1.056   Mean   :44.88   Mean   :178.9  \n",
       " 3rd Qu.:24.60   3rd Qu.:1.070   3rd Qu.:54.00   3rd Qu.:197.0  \n",
       " Max.   :45.10   Max.   :1.109   Max.   :81.00   Max.   :363.1  \n",
       "     height        adiposity          neck           chest       \n",
       " Min.   :29.50   Min.   :18.10   Min.   :31.10   Min.   : 79.30  \n",
       " 1st Qu.:68.25   1st Qu.:23.10   1st Qu.:36.40   1st Qu.: 94.35  \n",
       " Median :70.00   Median :25.05   Median :38.00   Median : 99.65  \n",
       " Mean   :70.15   Mean   :25.44   Mean   :37.99   Mean   :100.82  \n",
       " 3rd Qu.:72.25   3rd Qu.:27.32   3rd Qu.:39.42   3rd Qu.:105.38  \n",
       " Max.   :77.75   Max.   :48.90   Max.   :51.20   Max.   :136.20  \n",
       "    abdomen            hip            thigh            knee      \n",
       " Min.   : 69.40   Min.   : 85.0   Min.   :47.20   Min.   :33.00  \n",
       " 1st Qu.: 84.58   1st Qu.: 95.5   1st Qu.:56.00   1st Qu.:36.98  \n",
       " Median : 90.95   Median : 99.3   Median :59.00   Median :38.50  \n",
       " Mean   : 92.56   Mean   : 99.9   Mean   :59.41   Mean   :38.59  \n",
       " 3rd Qu.: 99.33   3rd Qu.:103.5   3rd Qu.:62.35   3rd Qu.:39.92  \n",
       " Max.   :148.10   Max.   :147.7   Max.   :87.30   Max.   :49.10  \n",
       "     ankle          biceps         forearm          wrist      \n",
       " Min.   :19.1   Min.   :24.80   Min.   :21.00   Min.   :15.80  \n",
       " 1st Qu.:22.0   1st Qu.:30.20   1st Qu.:27.30   1st Qu.:17.60  \n",
       " Median :22.8   Median :32.05   Median :28.70   Median :18.30  \n",
       " Mean   :23.1   Mean   :32.27   Mean   :28.66   Mean   :18.23  \n",
       " 3rd Qu.:24.0   3rd Qu.:34.33   3rd Qu.:30.00   3rd Qu.:18.80  \n",
       " Max.   :33.9   Max.   :45.00   Max.   :34.90   Max.   :21.40  "
      ]
     },
     "metadata": {},
     "output_type": "display_data"
    }
   ],
   "source": [
    "rm(list=ls())\n",
    "\n",
    "# import data\n",
    "bodyfat_1 = read.csv(\"bodyfat.csv\",sep = \",\", header = TRUE)\n",
    "colnames(bodyfat_1) = tolower(variable.names(bodyfat_1))\n",
    "\n",
    "# remove idno variable\n",
    "bodyfat_1 = bodyfat_1[,-1]\n",
    "\n",
    "# print first and last few observations \n",
    "head(bodyfat_1)\n",
    "tail(bodyfat_1)\n",
    "\n",
    "# summary of data\n",
    "summary(bodyfat_1)"
   ]
  },
  {
   "cell_type": "markdown",
   "metadata": {},
   "source": [
    "From the summary table above, we noticed something abnormal - the minimum and maximum body fat percentage, the maximum weight and the minimum height. These could be potential outliers and should be examined closely by re-calculating the values using other readily available measurements. "
   ]
  },
  {
   "cell_type": "code",
   "execution_count": 52,
   "metadata": {},
   "outputs": [
    {
     "data": {
      "text/html": [
       "<table>\n",
       "<thead><tr><th></th><th scope=col>bodyfat</th><th scope=col>density</th><th scope=col>age</th><th scope=col>weight</th><th scope=col>height</th><th scope=col>adiposity</th><th scope=col>neck</th><th scope=col>chest</th><th scope=col>abdomen</th><th scope=col>hip</th><th scope=col>thigh</th><th scope=col>knee</th><th scope=col>ankle</th><th scope=col>biceps</th><th scope=col>forearm</th><th scope=col>wrist</th></tr></thead>\n",
       "<tbody>\n",
       "\t<tr><th scope=row>182</th><td>0     </td><td>1.1089</td><td>40    </td><td>118.5 </td><td>68    </td><td>18.1  </td><td>33.8  </td><td>79.3  </td><td>69.4  </td><td>85    </td><td>47.2  </td><td>33.5  </td><td>20.2  </td><td>27.7  </td><td>24.6  </td><td>16.5  </td></tr>\n",
       "</tbody>\n",
       "</table>\n"
      ],
      "text/latex": [
       "\\begin{tabular}{r|llllllllllllllll}\n",
       "  & bodyfat & density & age & weight & height & adiposity & neck & chest & abdomen & hip & thigh & knee & ankle & biceps & forearm & wrist\\\\\n",
       "\\hline\n",
       "\t182 & 0      & 1.1089 & 40     & 118.5  & 68     & 18.1   & 33.8   & 79.3   & 69.4   & 85     & 47.2   & 33.5   & 20.2   & 27.7   & 24.6   & 16.5  \\\\\n",
       "\\end{tabular}\n"
      ],
      "text/markdown": [
       "\n",
       "| <!--/--> | bodyfat | density | age | weight | height | adiposity | neck | chest | abdomen | hip | thigh | knee | ankle | biceps | forearm | wrist |\n",
       "|---|---|---|---|---|---|---|---|---|---|---|---|---|---|---|---|---|\n",
       "| 182 | 0      | 1.1089 | 40     | 118.5  | 68     | 18.1   | 33.8   | 79.3   | 69.4   | 85     | 47.2   | 33.5   | 20.2   | 27.7   | 24.6   | 16.5   |\n",
       "\n"
      ],
      "text/plain": [
       "    bodyfat density age weight height adiposity neck chest abdomen hip thigh\n",
       "182 0       1.1089  40  118.5  68     18.1      33.8 79.3  69.4    85  47.2 \n",
       "    knee ankle biceps forearm wrist\n",
       "182 33.5 20.2  27.7   24.6    16.5 "
      ]
     },
     "metadata": {},
     "output_type": "display_data"
    },
    {
     "data": {
      "text/html": [
       "<table>\n",
       "<thead><tr><th></th><th scope=col>bodyfat</th><th scope=col>density</th><th scope=col>age</th><th scope=col>weight</th><th scope=col>height</th><th scope=col>adiposity</th><th scope=col>neck</th><th scope=col>chest</th><th scope=col>abdomen</th><th scope=col>hip</th><th scope=col>thigh</th><th scope=col>knee</th><th scope=col>ankle</th><th scope=col>biceps</th><th scope=col>forearm</th><th scope=col>wrist</th></tr></thead>\n",
       "<tbody>\n",
       "\t<tr><th scope=row>216</th><td>45.1 </td><td>0.995</td><td>51   </td><td>219  </td><td>64   </td><td>37.6 </td><td>41.2 </td><td>119.8</td><td>122.1</td><td>112.8</td><td>62.5 </td><td>36.9 </td><td>23.6 </td><td>34.7 </td><td>29.1 </td><td>18.4 </td></tr>\n",
       "</tbody>\n",
       "</table>\n"
      ],
      "text/latex": [
       "\\begin{tabular}{r|llllllllllllllll}\n",
       "  & bodyfat & density & age & weight & height & adiposity & neck & chest & abdomen & hip & thigh & knee & ankle & biceps & forearm & wrist\\\\\n",
       "\\hline\n",
       "\t216 & 45.1  & 0.995 & 51    & 219   & 64    & 37.6  & 41.2  & 119.8 & 122.1 & 112.8 & 62.5  & 36.9  & 23.6  & 34.7  & 29.1  & 18.4 \\\\\n",
       "\\end{tabular}\n"
      ],
      "text/markdown": [
       "\n",
       "| <!--/--> | bodyfat | density | age | weight | height | adiposity | neck | chest | abdomen | hip | thigh | knee | ankle | biceps | forearm | wrist |\n",
       "|---|---|---|---|---|---|---|---|---|---|---|---|---|---|---|---|---|\n",
       "| 216 | 45.1  | 0.995 | 51    | 219   | 64    | 37.6  | 41.2  | 119.8 | 122.1 | 112.8 | 62.5  | 36.9  | 23.6  | 34.7  | 29.1  | 18.4  |\n",
       "\n"
      ],
      "text/plain": [
       "    bodyfat density age weight height adiposity neck chest abdomen hip   thigh\n",
       "216 45.1    0.995   51  219    64     37.6      41.2 119.8 122.1   112.8 62.5 \n",
       "    knee ankle biceps forearm wrist\n",
       "216 36.9 23.6  34.7   29.1    18.4 "
      ]
     },
     "metadata": {},
     "output_type": "display_data"
    },
    {
     "data": {
      "text/html": [
       "<table>\n",
       "<thead><tr><th></th><th scope=col>bodyfat</th><th scope=col>density</th><th scope=col>age</th><th scope=col>weight</th><th scope=col>height</th><th scope=col>adiposity</th><th scope=col>neck</th><th scope=col>chest</th><th scope=col>abdomen</th><th scope=col>hip</th><th scope=col>thigh</th><th scope=col>knee</th><th scope=col>ankle</th><th scope=col>biceps</th><th scope=col>forearm</th><th scope=col>wrist</th></tr></thead>\n",
       "<tbody>\n",
       "\t<tr><th scope=row>39</th><td>33.8  </td><td>1.0202</td><td>46    </td><td>363.15</td><td>72.25 </td><td>48.9  </td><td>51.2  </td><td>136.2 </td><td>148.1 </td><td>147.7 </td><td>87.3  </td><td>49.1  </td><td>29.6  </td><td>45    </td><td>29    </td><td>21.4  </td></tr>\n",
       "</tbody>\n",
       "</table>\n"
      ],
      "text/latex": [
       "\\begin{tabular}{r|llllllllllllllll}\n",
       "  & bodyfat & density & age & weight & height & adiposity & neck & chest & abdomen & hip & thigh & knee & ankle & biceps & forearm & wrist\\\\\n",
       "\\hline\n",
       "\t39 & 33.8   & 1.0202 & 46     & 363.15 & 72.25  & 48.9   & 51.2   & 136.2  & 148.1  & 147.7  & 87.3   & 49.1   & 29.6   & 45     & 29     & 21.4  \\\\\n",
       "\\end{tabular}\n"
      ],
      "text/markdown": [
       "\n",
       "| <!--/--> | bodyfat | density | age | weight | height | adiposity | neck | chest | abdomen | hip | thigh | knee | ankle | biceps | forearm | wrist |\n",
       "|---|---|---|---|---|---|---|---|---|---|---|---|---|---|---|---|---|\n",
       "| 39 | 33.8   | 1.0202 | 46     | 363.15 | 72.25  | 48.9   | 51.2   | 136.2  | 148.1  | 147.7  | 87.3   | 49.1   | 29.6   | 45     | 29     | 21.4   |\n",
       "\n"
      ],
      "text/plain": [
       "   bodyfat density age weight height adiposity neck chest abdomen hip   thigh\n",
       "39 33.8    1.0202  46  363.15 72.25  48.9      51.2 136.2 148.1   147.7 87.3 \n",
       "   knee ankle biceps forearm wrist\n",
       "39 49.1 29.6  45     29      21.4 "
      ]
     },
     "metadata": {},
     "output_type": "display_data"
    },
    {
     "data": {
      "text/html": [
       "<table>\n",
       "<thead><tr><th></th><th scope=col>bodyfat</th><th scope=col>density</th><th scope=col>age</th><th scope=col>weight</th><th scope=col>height</th><th scope=col>adiposity</th><th scope=col>neck</th><th scope=col>chest</th><th scope=col>abdomen</th><th scope=col>hip</th><th scope=col>thigh</th><th scope=col>knee</th><th scope=col>ankle</th><th scope=col>biceps</th><th scope=col>forearm</th><th scope=col>wrist</th></tr></thead>\n",
       "<tbody>\n",
       "\t<tr><th scope=row>42</th><td>31.7 </td><td>1.025</td><td>44   </td><td>205  </td><td>29.5 </td><td>29.9 </td><td>36.6 </td><td>106  </td><td>104.3</td><td>115.5</td><td>70.6 </td><td>42.5 </td><td>23.7 </td><td>33.6 </td><td>28.7 </td><td>17.4 </td></tr>\n",
       "</tbody>\n",
       "</table>\n"
      ],
      "text/latex": [
       "\\begin{tabular}{r|llllllllllllllll}\n",
       "  & bodyfat & density & age & weight & height & adiposity & neck & chest & abdomen & hip & thigh & knee & ankle & biceps & forearm & wrist\\\\\n",
       "\\hline\n",
       "\t42 & 31.7  & 1.025 & 44    & 205   & 29.5  & 29.9  & 36.6  & 106   & 104.3 & 115.5 & 70.6  & 42.5  & 23.7  & 33.6  & 28.7  & 17.4 \\\\\n",
       "\\end{tabular}\n"
      ],
      "text/markdown": [
       "\n",
       "| <!--/--> | bodyfat | density | age | weight | height | adiposity | neck | chest | abdomen | hip | thigh | knee | ankle | biceps | forearm | wrist |\n",
       "|---|---|---|---|---|---|---|---|---|---|---|---|---|---|---|---|---|\n",
       "| 42 | 31.7  | 1.025 | 44    | 205   | 29.5  | 29.9  | 36.6  | 106   | 104.3 | 115.5 | 70.6  | 42.5  | 23.7  | 33.6  | 28.7  | 17.4  |\n",
       "\n"
      ],
      "text/plain": [
       "   bodyfat density age weight height adiposity neck chest abdomen hip   thigh\n",
       "42 31.7    1.025   44  205    29.5   29.9      36.6 106   104.3   115.5 70.6 \n",
       "   knee ankle biceps forearm wrist\n",
       "42 42.5 23.7  33.6   28.7    17.4 "
      ]
     },
     "metadata": {},
     "output_type": "display_data"
    }
   ],
   "source": [
    "# extract abnormal observations\n",
    "min.bf = which.min(bodyfat_1$bodyfat) \n",
    "max.bf = which.max(bodyfat_1$bodyfat)\n",
    "max.weight = which.max(bodyfat_1$weight)\n",
    "min.height = which.min(bodyfat_1$height)\n",
    "\n",
    "bodyfat_1[min.bf,]\n",
    "bodyfat_1[max.bf,]\n",
    "bodyfat_1[max.weight,]\n",
    "bodyfat_1[min.height,]"
   ]
  },
  {
   "cell_type": "markdown",
   "metadata": {},
   "source": [
    "Looking at the data set, the 182$^{nd}$ man has 0% body fat. Re-calculating his body fat percentage using the Siri's equation gives a negative value. Thus, we decided to omit this observation as it is impossible for someone to have negative body fat percentage. \n",
    "\n",
    "The 216$^{th}$ man has the highest body fat percentage of 45% and the re-calculated body fat gives 47.4%. Also, this man has particularly large value of weight and other body circumferences compared to his peers. On the other hand, observation 39 has the largest weight, 363.1 lbs. The adiposity and height values were used to re-calculate his weight and it showed no error. Hence, observations 216 and 39 were removed as our focus group is normal men.\n",
    "\n",
    "The 42$^{nd}$ man is 29.50 inches tall. The re-calculated height value is 69.4 inches using adiposity and weight. This value was then corrected in the data set. \n",
    "\n",
    "On the other hand, the Siri's equation shows that there exists a linear relationship between percentage of body fat and density. The following plot of body fat percentage against $\\frac{1}{Density}$ is obtained to examine whether the two variables in our data set satisfy this relationship."
   ]
  },
  {
   "cell_type": "code",
   "execution_count": 89,
   "metadata": {},
   "outputs": [
    {
     "data": {
      "image/png": "[encoded data removed]",
      "text/plain": [
       "Plot with title “Bodyfat vs. 1/Density”"
      ]
     },
     "metadata": {},
     "output_type": "display_data"
    }
   ],
   "source": [
    "library(IRdisplay)\n",
    "layout(1)\n",
    "\n",
    "library(repr)\n",
    "options(repr.plot.width=4, repr.plot.height=4)\n",
    "\n",
    "# Plot bodyfat vs 1/density\n",
    "x = plot( y = bodyfat_1$bodyfat, x = 1/bodyfat_1$density, ylab = \"Bodyfat percentage\",\n",
    "      xlab = \"1/Density\", main = \"Bodyfat vs. 1/Density\")\n",
    "\n",
    "# Add labels to points that deviate from straight line\n",
    "text(1/bodyfat_1$density[48],9,\"48\",col = \"blue\",cex=0.8)\n",
    "text(1/bodyfat_1$density[76],21,\"76\",col = \"blue\",cex=0.8)\n",
    "text(1/bodyfat_1$density[96],20,\"96\",col = \"blue\",cex=0.8)"
   ]
  },
  {
   "cell_type": "markdown",
   "metadata": {},
   "source": [
    "From the plot above, it is obvious that the majority of the points lie on the straight line except for observations 48, 76 and 96. "
   ]
  },
  {
   "cell_type": "code",
   "execution_count": 33,
   "metadata": {},
   "outputs": [
    {
     "data": {
      "text/html": [
       "<table>\n",
       "<thead><tr><th></th><th scope=col>bodyfat</th><th scope=col>density</th><th scope=col>age</th><th scope=col>weight</th><th scope=col>height</th><th scope=col>adiposity</th><th scope=col>neck</th><th scope=col>chest</th><th scope=col>abdomen</th><th scope=col>hip</th><th scope=col>thigh</th><th scope=col>knee</th><th scope=col>ankle</th><th scope=col>biceps</th><th scope=col>forearm</th><th scope=col>wrist</th></tr></thead>\n",
       "<tbody>\n",
       "\t<tr><th scope=row>48</th><td>6.4   </td><td>1.0665</td><td>39    </td><td>148.5 </td><td>71.25 </td><td>20.6  </td><td>34.6  </td><td>89.8  </td><td>79.5  </td><td>92.7  </td><td>52.7  </td><td>37.5  </td><td>21.9  </td><td>28.8  </td><td>26.8  </td><td>17.9  </td></tr>\n",
       "</tbody>\n",
       "</table>\n"
      ],
      "text/latex": [
       "\\begin{tabular}{r|llllllllllllllll}\n",
       "  & bodyfat & density & age & weight & height & adiposity & neck & chest & abdomen & hip & thigh & knee & ankle & biceps & forearm & wrist\\\\\n",
       "\\hline\n",
       "\t48 & 6.4    & 1.0665 & 39     & 148.5  & 71.25  & 20.6   & 34.6   & 89.8   & 79.5   & 92.7   & 52.7   & 37.5   & 21.9   & 28.8   & 26.8   & 17.9  \\\\\n",
       "\\end{tabular}\n"
      ],
      "text/markdown": [
       "\n",
       "| <!--/--> | bodyfat | density | age | weight | height | adiposity | neck | chest | abdomen | hip | thigh | knee | ankle | biceps | forearm | wrist |\n",
       "|---|---|---|---|---|---|---|---|---|---|---|---|---|---|---|---|---|\n",
       "| 48 | 6.4    | 1.0665 | 39     | 148.5  | 71.25  | 20.6   | 34.6   | 89.8   | 79.5   | 92.7   | 52.7   | 37.5   | 21.9   | 28.8   | 26.8   | 17.9   |\n",
       "\n"
      ],
      "text/plain": [
       "   bodyfat density age weight height adiposity neck chest abdomen hip  thigh\n",
       "48 6.4     1.0665  39  148.5  71.25  20.6      34.6 89.8  79.5    92.7 52.7 \n",
       "   knee ankle biceps forearm wrist\n",
       "48 37.5 21.9  28.8   26.8    17.9 "
      ]
     },
     "metadata": {},
     "output_type": "display_data"
    },
    {
     "data": {
      "text/html": [
       "<table>\n",
       "<thead><tr><th></th><th scope=col>bodyfat</th><th scope=col>density</th><th scope=col>age</th><th scope=col>weight</th><th scope=col>height</th><th scope=col>adiposity</th><th scope=col>neck</th><th scope=col>chest</th><th scope=col>abdomen</th><th scope=col>hip</th><th scope=col>thigh</th><th scope=col>knee</th><th scope=col>ankle</th><th scope=col>biceps</th><th scope=col>forearm</th><th scope=col>wrist</th></tr></thead>\n",
       "<tbody>\n",
       "\t<tr><th scope=row>76</th><td>18.3  </td><td>1.0666</td><td>61    </td><td>148.25</td><td>67.5  </td><td>22.9  </td><td>36    </td><td>91.6  </td><td>81.8  </td><td>94.8  </td><td>54.5  </td><td>37    </td><td>21.4  </td><td>29.3  </td><td>27    </td><td>18.3  </td></tr>\n",
       "</tbody>\n",
       "</table>\n"
      ],
      "text/latex": [
       "\\begin{tabular}{r|llllllllllllllll}\n",
       "  & bodyfat & density & age & weight & height & adiposity & neck & chest & abdomen & hip & thigh & knee & ankle & biceps & forearm & wrist\\\\\n",
       "\\hline\n",
       "\t76 & 18.3   & 1.0666 & 61     & 148.25 & 67.5   & 22.9   & 36     & 91.6   & 81.8   & 94.8   & 54.5   & 37     & 21.4   & 29.3   & 27     & 18.3  \\\\\n",
       "\\end{tabular}\n"
      ],
      "text/markdown": [
       "\n",
       "| <!--/--> | bodyfat | density | age | weight | height | adiposity | neck | chest | abdomen | hip | thigh | knee | ankle | biceps | forearm | wrist |\n",
       "|---|---|---|---|---|---|---|---|---|---|---|---|---|---|---|---|---|\n",
       "| 76 | 18.3   | 1.0666 | 61     | 148.25 | 67.5   | 22.9   | 36     | 91.6   | 81.8   | 94.8   | 54.5   | 37     | 21.4   | 29.3   | 27     | 18.3   |\n",
       "\n"
      ],
      "text/plain": [
       "   bodyfat density age weight height adiposity neck chest abdomen hip  thigh\n",
       "76 18.3    1.0666  61  148.25 67.5   22.9      36   91.6  81.8    94.8 54.5 \n",
       "   knee ankle biceps forearm wrist\n",
       "76 37   21.4  29.3   27      18.3 "
      ]
     },
     "metadata": {},
     "output_type": "display_data"
    },
    {
     "data": {
      "text/html": [
       "<table>\n",
       "<thead><tr><th></th><th scope=col>bodyfat</th><th scope=col>density</th><th scope=col>age</th><th scope=col>weight</th><th scope=col>height</th><th scope=col>adiposity</th><th scope=col>neck</th><th scope=col>chest</th><th scope=col>abdomen</th><th scope=col>hip</th><th scope=col>thigh</th><th scope=col>knee</th><th scope=col>ankle</th><th scope=col>biceps</th><th scope=col>forearm</th><th scope=col>wrist</th></tr></thead>\n",
       "<tbody>\n",
       "\t<tr><th scope=row>96</th><td>17.3  </td><td>1.0991</td><td>53    </td><td>224.5 </td><td>77.75 </td><td>26.1  </td><td>41.1  </td><td>113.2 </td><td>99.2  </td><td>107.5 </td><td>61.7  </td><td>42.3  </td><td>23.2  </td><td>32.9  </td><td>30.8  </td><td>20.4  </td></tr>\n",
       "</tbody>\n",
       "</table>\n"
      ],
      "text/latex": [
       "\\begin{tabular}{r|llllllllllllllll}\n",
       "  & bodyfat & density & age & weight & height & adiposity & neck & chest & abdomen & hip & thigh & knee & ankle & biceps & forearm & wrist\\\\\n",
       "\\hline\n",
       "\t96 & 17.3   & 1.0991 & 53     & 224.5  & 77.75  & 26.1   & 41.1   & 113.2  & 99.2   & 107.5  & 61.7   & 42.3   & 23.2   & 32.9   & 30.8   & 20.4  \\\\\n",
       "\\end{tabular}\n"
      ],
      "text/markdown": [
       "\n",
       "| <!--/--> | bodyfat | density | age | weight | height | adiposity | neck | chest | abdomen | hip | thigh | knee | ankle | biceps | forearm | wrist |\n",
       "|---|---|---|---|---|---|---|---|---|---|---|---|---|---|---|---|---|\n",
       "| 96 | 17.3   | 1.0991 | 53     | 224.5  | 77.75  | 26.1   | 41.1   | 113.2  | 99.2   | 107.5  | 61.7   | 42.3   | 23.2   | 32.9   | 30.8   | 20.4   |\n",
       "\n"
      ],
      "text/plain": [
       "   bodyfat density age weight height adiposity neck chest abdomen hip   thigh\n",
       "96 17.3    1.0991  53  224.5  77.75  26.1      41.1 113.2 99.2    107.5 61.7 \n",
       "   knee ankle biceps forearm wrist\n",
       "96 42.3 23.2  32.9   30.8    20.4 "
      ]
     },
     "metadata": {},
     "output_type": "display_data"
    }
   ],
   "source": [
    "# observations on plot that deviate from straight line\n",
    "bodyfat_1[48,]\n",
    "bodyfat_1[76,]\n",
    "bodyfat_1[96,]"
   ]
  },
  {
   "cell_type": "markdown",
   "metadata": {},
   "source": [
    "The above table shows the measurements for the three observations. As percentage of body fat can be determined from density using Siri's equation and vice versa, the percentage of body fat for these observations were calculated. The density for observations 48 and 76 are similar and the body fat recalculated is 14.1% (to the nearest tenth) while that for observation 96 is 0.4% which does not make sense considering the high value of other measurements. Thus, we replaced the percentage of body fat for observations 48 and 76 with 14.1% and re-calculated and corrected the density for observation 96 (which is 1.0953). After making these changes, all points lie on the straight line.\n",
    "\n",
    "After correcting for the height value for observation 42 and body fat percentage for observation 48 and 76, removing density variable and remove observations 39, 182 and 216, the data set now contains 249 observations and 15 variables."
   ]
  },
  {
   "cell_type": "code",
   "execution_count": 53,
   "metadata": {},
   "outputs": [],
   "source": [
    "# read data\n",
    "bodyfat_2 = read.csv(\"bodyfat_cleaned.csv\", sep = \",\",header = TRUE, row.names = NULL)"
   ]
  },
  {
   "cell_type": "markdown",
   "metadata": {},
   "source": [
    "## Variable Selection"
   ]
  },
  {
   "cell_type": "markdown",
   "metadata": {},
   "source": [
    "### A. Preliminary Analysis"
   ]
  },
  {
   "cell_type": "markdown",
   "metadata": {},
   "source": [
    "### B. Methods "
   ]
  },
  {
   "cell_type": "markdown",
   "metadata": {},
   "source": [
    "Several methods were used to select the best subset of predictors: forward, backward and stepwise selections using AIC and BIC criteria, best subset selection (based on both BIC and *R$^{2}_{adj}$*), Lasso regression as well as Mallow's Cp. "
   ]
  },
  {
   "cell_type": "code",
   "execution_count": 93,
   "metadata": {},
   "outputs": [],
   "source": [
    "# full model - multiple linear regression\n",
    "full.model = lm(bodyfat~., data = bodyfat_2)\n",
    "\n",
    "# stepwise selection\n",
    "model.bic.both = step(full.model, direction = \"both\", k = log(nrow(bodyfat_2)), trace = FALSE)\n",
    "model.aic.both = step(full.model, direction = \"both\", k = 2, trace = FALSE)\n",
    "\n",
    "# backward selection\n",
    "model.bic.backward = step(full.model, direction = \"backward\", k = log(nrow(bodyfat_2)), trace = FALSE)\n",
    "model.aic.backward= step(full.model, direction = \"backward\", k = 2, trace = FALSE)\n",
    "\n",
    "# forward selection\n",
    "model.bic.forward = step(full.model, direction = \"forward\", k = log(nrow(bodyfat_2)), trace = FALSE)\n",
    "model.aic.forward = step(full.model, direction = \"forward\", k = 2, trace = FALSE)\n",
    "\n",
    "# best subset selection\n",
    "library(leaps)\n",
    "bestsubset = regsubsets(bodyfat~., data=bodyfat_2, nvmax=ncol((bodyfat_2)-1))\n",
    "summary.bestsubset = summary(bestsubset)\n",
    "model.bestsubset = lm(bodyfat~weight+abdomen+wrist, data=bodyfat_2)\n",
    "\n",
    "# fit lasso\n",
    "library(glmnet)\n",
    "x = model.matrix(bodyfat~., data = bodyfat_2)[,-1]\n",
    "y = bodyfat_2$bodyfat\n",
    "model.cv.lasso = cv.glmnet(x, y, family = \"gaussian\", alpha = 1, type.measure = \"mse\")\n",
    "\n",
    "# Mallow's Cp criterion\n",
    "library(faraway)\n",
    "mallow_Cp = leaps(x,y,nbest = 1)"
   ]
  },
  {
   "cell_type": "markdown",
   "metadata": {},
   "source": [
    "The following table shows the subset of variables selected by each method. It is shown that the two variables abdomen and wrist are selected by all methods, suggesting that these variables are important in predicting body fat percentage."
   ]
  },
  {
   "cell_type": "markdown",
   "metadata": {},
   "source": [
    "| method | age | weight | height | adiposity | neck | chest |  abdomen | hip | thigh | knee | ankle | biceps| forearm | wrist |\n",
    "| --- | --- | --- | --- | --- | --- | --- | --- | --- | --- | --- | --- | --- | --- | --- |\n",
    "|stepwise (BIC) | | | <ul><li> | | | | <ul><li> | | | | | | | <ul><li> |\n",
    "|stepwise (AIC) | <ul><li> | | <ul><li> | <ul><li> |<ul><li> | <ul><li> | <ul><li> | <ul><li> | | | | |<ul><li> |<ul><li> |\n",
    "|backward (BIC) |<ul><li> | | | | | |<ul><li> | | | | | | |<ul><li>|\n",
    "|backward (AIC) | <ul><li>| | |<ul><li> |<ul><li> | <ul><li>|<ul><li> |<ul><li> | | | | | <ul><li>|<ul><li> |\n",
    "|forward (BIC)  | <ul><li>| <ul><li>|<ul><li> |<ul><li> |<ul><li> |<ul><li> |<ul><li> |<ul><li> |<ul><li> |<ul><li> |<ul><li> |<ul><li> |<ul><li> |<ul><li> |\n",
    "|forward (AIC)  | <ul><li>| <ul><li>|<ul><li> |<ul><li> |<ul><li> |<ul><li> |<ul><li> |<ul><li> |<ul><li> |<ul><li> |<ul><li> |<ul><li> |<ul><li> |<ul><li> |\n",
    "|best subset    | | <ul><li>| | | | | <ul><li>| | | | | | |<ul><li> |\n",
    "|Lasso          | <ul><li>| |<ul><li> | | | | <ul><li>| | | | | | | <ul><li>|\n",
    "|Mallow's Cp    | <ul><li>| | <ul><li>| | | <ul><li>| <ul><li>| | | | | <ul><li>| | <ul><li>|"
   ]
  },
  {
   "cell_type": "markdown",
   "metadata": {},
   "source": [
    "## Statistical Analysis"
   ]
  },
  {
   "cell_type": "markdown",
   "metadata": {},
   "source": [
    "### A. Best Model Fitting"
   ]
  },
  {
   "cell_type": "markdown",
   "metadata": {},
   "source": [
    "### B. Residual Diagnostics"
   ]
  },
  {
   "cell_type": "markdown",
   "metadata": {},
   "source": [
    "#### 1. Checking for Influential Points"
   ]
  },
  {
   "cell_type": "markdown",
   "metadata": {},
   "source": [
    "#### 2. Checking for Normality"
   ]
  },
  {
   "cell_type": "markdown",
   "metadata": {},
   "source": [
    "#### 3. Checking for Independence"
   ]
  },
  {
   "cell_type": "markdown",
   "metadata": {},
   "source": [
    "### C. Model Validation"
   ]
  },
  {
   "cell_type": "markdown",
   "metadata": {},
   "source": [
    "## Interpretation"
   ]
  },
  {
   "cell_type": "markdown",
   "metadata": {},
   "source": []
  },
  {
   "cell_type": "markdown",
   "metadata": {},
   "source": [
    "#### Strengths and Weaknesses"
   ]
  },
  {
   "cell_type": "markdown",
   "metadata": {},
   "source": []
  },
  {
   "cell_type": "markdown",
   "metadata": {},
   "source": [
    "## Conclusion"
   ]
  },
  {
   "cell_type": "markdown",
   "metadata": {},
   "source": []
  },
  {
   "cell_type": "markdown",
   "metadata": {},
   "source": [
    "## Reference"
   ]
  },
  {
   "cell_type": "markdown",
   "metadata": {},
   "source": []
  }
 ],
 "metadata": {
  "kernelspec": {
   "display_name": "R",
   "language": "R",
   "name": "ir"
  },
  "language_info": {
   "codemirror_mode": "r",
   "file_extension": ".r",
   "mimetype": "text/x-r-source",
   "name": "R",
   "pygments_lexer": "r",
   "version": "3.6.1"
  }
 },
 "nbformat": 4,
 "nbformat_minor": 2
}
